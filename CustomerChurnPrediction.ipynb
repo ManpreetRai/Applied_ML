{
 "cells": [
  {
   "cell_type": "markdown",
   "metadata": {},
   "source": [
    "### Step 1: Loading the data"
   ]
  },
  {
   "cell_type": "code",
   "execution_count": 2,
   "metadata": {},
   "outputs": [],
   "source": [
    "import pandas as pd\n",
    "import numpy as np\n",
    "import matplotlib.pyplot as plt"
   ]
  },
  {
   "cell_type": "code",
   "execution_count": 3,
   "metadata": {},
   "outputs": [],
   "source": [
    "data = pd.read_csv('../data/Churn_Modelling.csv')"
   ]
  },
  {
   "cell_type": "markdown",
   "metadata": {},
   "source": [
    "### Step 2: Visualizing the data"
   ]
  },
  {
   "cell_type": "code",
   "execution_count": 5,
   "metadata": {},
   "outputs": [
    {
     "data": {
      "text/html": [
       "<div>\n",
       "<style scoped>\n",
       "    .dataframe tbody tr th:only-of-type {\n",
       "        vertical-align: middle;\n",
       "    }\n",
       "\n",
       "    .dataframe tbody tr th {\n",
       "        vertical-align: top;\n",
       "    }\n",
       "\n",
       "    .dataframe thead th {\n",
       "        text-align: right;\n",
       "    }\n",
       "</style>\n",
       "<table border=\"1\" class=\"dataframe\">\n",
       "  <thead>\n",
       "    <tr style=\"text-align: right;\">\n",
       "      <th></th>\n",
       "      <th>RowNumber</th>\n",
       "      <th>CustomerId</th>\n",
       "      <th>Surname</th>\n",
       "      <th>CreditScore</th>\n",
       "      <th>Geography</th>\n",
       "      <th>Gender</th>\n",
       "      <th>Age</th>\n",
       "      <th>Tenure</th>\n",
       "      <th>Balance</th>\n",
       "      <th>NumOfProducts</th>\n",
       "      <th>HasCrCard</th>\n",
       "      <th>IsActiveMember</th>\n",
       "      <th>EstimatedSalary</th>\n",
       "      <th>Exited</th>\n",
       "    </tr>\n",
       "  </thead>\n",
       "  <tbody>\n",
       "    <tr>\n",
       "      <th>0</th>\n",
       "      <td>1</td>\n",
       "      <td>15634602</td>\n",
       "      <td>Hargrave</td>\n",
       "      <td>619</td>\n",
       "      <td>France</td>\n",
       "      <td>Female</td>\n",
       "      <td>42</td>\n",
       "      <td>2</td>\n",
       "      <td>0.00</td>\n",
       "      <td>1</td>\n",
       "      <td>1</td>\n",
       "      <td>1</td>\n",
       "      <td>101348.88</td>\n",
       "      <td>1</td>\n",
       "    </tr>\n",
       "    <tr>\n",
       "      <th>1</th>\n",
       "      <td>2</td>\n",
       "      <td>15647311</td>\n",
       "      <td>Hill</td>\n",
       "      <td>608</td>\n",
       "      <td>Spain</td>\n",
       "      <td>Female</td>\n",
       "      <td>41</td>\n",
       "      <td>1</td>\n",
       "      <td>83807.86</td>\n",
       "      <td>1</td>\n",
       "      <td>0</td>\n",
       "      <td>1</td>\n",
       "      <td>112542.58</td>\n",
       "      <td>0</td>\n",
       "    </tr>\n",
       "    <tr>\n",
       "      <th>2</th>\n",
       "      <td>3</td>\n",
       "      <td>15619304</td>\n",
       "      <td>Onio</td>\n",
       "      <td>502</td>\n",
       "      <td>France</td>\n",
       "      <td>Female</td>\n",
       "      <td>42</td>\n",
       "      <td>8</td>\n",
       "      <td>159660.80</td>\n",
       "      <td>3</td>\n",
       "      <td>1</td>\n",
       "      <td>0</td>\n",
       "      <td>113931.57</td>\n",
       "      <td>1</td>\n",
       "    </tr>\n",
       "    <tr>\n",
       "      <th>3</th>\n",
       "      <td>4</td>\n",
       "      <td>15701354</td>\n",
       "      <td>Boni</td>\n",
       "      <td>699</td>\n",
       "      <td>France</td>\n",
       "      <td>Female</td>\n",
       "      <td>39</td>\n",
       "      <td>1</td>\n",
       "      <td>0.00</td>\n",
       "      <td>2</td>\n",
       "      <td>0</td>\n",
       "      <td>0</td>\n",
       "      <td>93826.63</td>\n",
       "      <td>0</td>\n",
       "    </tr>\n",
       "    <tr>\n",
       "      <th>4</th>\n",
       "      <td>5</td>\n",
       "      <td>15737888</td>\n",
       "      <td>Mitchell</td>\n",
       "      <td>850</td>\n",
       "      <td>Spain</td>\n",
       "      <td>Female</td>\n",
       "      <td>43</td>\n",
       "      <td>2</td>\n",
       "      <td>125510.82</td>\n",
       "      <td>1</td>\n",
       "      <td>1</td>\n",
       "      <td>1</td>\n",
       "      <td>79084.10</td>\n",
       "      <td>0</td>\n",
       "    </tr>\n",
       "  </tbody>\n",
       "</table>\n",
       "</div>"
      ],
      "text/plain": [
       "   RowNumber  CustomerId   Surname  CreditScore Geography  Gender  Age  \\\n",
       "0          1    15634602  Hargrave          619    France  Female   42   \n",
       "1          2    15647311      Hill          608     Spain  Female   41   \n",
       "2          3    15619304      Onio          502    France  Female   42   \n",
       "3          4    15701354      Boni          699    France  Female   39   \n",
       "4          5    15737888  Mitchell          850     Spain  Female   43   \n",
       "\n",
       "   Tenure    Balance  NumOfProducts  HasCrCard  IsActiveMember  \\\n",
       "0       2       0.00              1          1               1   \n",
       "1       1   83807.86              1          0               1   \n",
       "2       8  159660.80              3          1               0   \n",
       "3       1       0.00              2          0               0   \n",
       "4       2  125510.82              1          1               1   \n",
       "\n",
       "   EstimatedSalary  Exited  \n",
       "0        101348.88       1  \n",
       "1        112542.58       0  \n",
       "2        113931.57       1  \n",
       "3         93826.63       0  \n",
       "4         79084.10       0  "
      ]
     },
     "execution_count": 5,
     "metadata": {},
     "output_type": "execute_result"
    }
   ],
   "source": [
    "data.head()"
   ]
  },
  {
   "cell_type": "code",
   "execution_count": 6,
   "metadata": {},
   "outputs": [
    {
     "data": {
      "text/html": [
       "<div>\n",
       "<style scoped>\n",
       "    .dataframe tbody tr th:only-of-type {\n",
       "        vertical-align: middle;\n",
       "    }\n",
       "\n",
       "    .dataframe tbody tr th {\n",
       "        vertical-align: top;\n",
       "    }\n",
       "\n",
       "    .dataframe thead th {\n",
       "        text-align: right;\n",
       "    }\n",
       "</style>\n",
       "<table border=\"1\" class=\"dataframe\">\n",
       "  <thead>\n",
       "    <tr style=\"text-align: right;\">\n",
       "      <th></th>\n",
       "      <th>RowNumber</th>\n",
       "      <th>CustomerId</th>\n",
       "      <th>CreditScore</th>\n",
       "      <th>Age</th>\n",
       "      <th>Tenure</th>\n",
       "      <th>Balance</th>\n",
       "      <th>NumOfProducts</th>\n",
       "      <th>HasCrCard</th>\n",
       "      <th>IsActiveMember</th>\n",
       "      <th>EstimatedSalary</th>\n",
       "      <th>Exited</th>\n",
       "    </tr>\n",
       "  </thead>\n",
       "  <tbody>\n",
       "    <tr>\n",
       "      <th>count</th>\n",
       "      <td>10000.00000</td>\n",
       "      <td>1.000000e+04</td>\n",
       "      <td>10000.000000</td>\n",
       "      <td>10000.000000</td>\n",
       "      <td>10000.000000</td>\n",
       "      <td>10000.000000</td>\n",
       "      <td>10000.000000</td>\n",
       "      <td>10000.00000</td>\n",
       "      <td>10000.000000</td>\n",
       "      <td>10000.000000</td>\n",
       "      <td>10000.000000</td>\n",
       "    </tr>\n",
       "    <tr>\n",
       "      <th>mean</th>\n",
       "      <td>5000.50000</td>\n",
       "      <td>1.569094e+07</td>\n",
       "      <td>650.528800</td>\n",
       "      <td>38.921800</td>\n",
       "      <td>5.012800</td>\n",
       "      <td>76485.889288</td>\n",
       "      <td>1.530200</td>\n",
       "      <td>0.70550</td>\n",
       "      <td>0.515100</td>\n",
       "      <td>100090.239881</td>\n",
       "      <td>0.203700</td>\n",
       "    </tr>\n",
       "    <tr>\n",
       "      <th>std</th>\n",
       "      <td>2886.89568</td>\n",
       "      <td>7.193619e+04</td>\n",
       "      <td>96.653299</td>\n",
       "      <td>10.487806</td>\n",
       "      <td>2.892174</td>\n",
       "      <td>62397.405202</td>\n",
       "      <td>0.581654</td>\n",
       "      <td>0.45584</td>\n",
       "      <td>0.499797</td>\n",
       "      <td>57510.492818</td>\n",
       "      <td>0.402769</td>\n",
       "    </tr>\n",
       "    <tr>\n",
       "      <th>min</th>\n",
       "      <td>1.00000</td>\n",
       "      <td>1.556570e+07</td>\n",
       "      <td>350.000000</td>\n",
       "      <td>18.000000</td>\n",
       "      <td>0.000000</td>\n",
       "      <td>0.000000</td>\n",
       "      <td>1.000000</td>\n",
       "      <td>0.00000</td>\n",
       "      <td>0.000000</td>\n",
       "      <td>11.580000</td>\n",
       "      <td>0.000000</td>\n",
       "    </tr>\n",
       "    <tr>\n",
       "      <th>25%</th>\n",
       "      <td>2500.75000</td>\n",
       "      <td>1.562853e+07</td>\n",
       "      <td>584.000000</td>\n",
       "      <td>32.000000</td>\n",
       "      <td>3.000000</td>\n",
       "      <td>0.000000</td>\n",
       "      <td>1.000000</td>\n",
       "      <td>0.00000</td>\n",
       "      <td>0.000000</td>\n",
       "      <td>51002.110000</td>\n",
       "      <td>0.000000</td>\n",
       "    </tr>\n",
       "    <tr>\n",
       "      <th>50%</th>\n",
       "      <td>5000.50000</td>\n",
       "      <td>1.569074e+07</td>\n",
       "      <td>652.000000</td>\n",
       "      <td>37.000000</td>\n",
       "      <td>5.000000</td>\n",
       "      <td>97198.540000</td>\n",
       "      <td>1.000000</td>\n",
       "      <td>1.00000</td>\n",
       "      <td>1.000000</td>\n",
       "      <td>100193.915000</td>\n",
       "      <td>0.000000</td>\n",
       "    </tr>\n",
       "    <tr>\n",
       "      <th>75%</th>\n",
       "      <td>7500.25000</td>\n",
       "      <td>1.575323e+07</td>\n",
       "      <td>718.000000</td>\n",
       "      <td>44.000000</td>\n",
       "      <td>7.000000</td>\n",
       "      <td>127644.240000</td>\n",
       "      <td>2.000000</td>\n",
       "      <td>1.00000</td>\n",
       "      <td>1.000000</td>\n",
       "      <td>149388.247500</td>\n",
       "      <td>0.000000</td>\n",
       "    </tr>\n",
       "    <tr>\n",
       "      <th>max</th>\n",
       "      <td>10000.00000</td>\n",
       "      <td>1.581569e+07</td>\n",
       "      <td>850.000000</td>\n",
       "      <td>92.000000</td>\n",
       "      <td>10.000000</td>\n",
       "      <td>250898.090000</td>\n",
       "      <td>4.000000</td>\n",
       "      <td>1.00000</td>\n",
       "      <td>1.000000</td>\n",
       "      <td>199992.480000</td>\n",
       "      <td>1.000000</td>\n",
       "    </tr>\n",
       "  </tbody>\n",
       "</table>\n",
       "</div>"
      ],
      "text/plain": [
       "         RowNumber    CustomerId   CreditScore           Age        Tenure  \\\n",
       "count  10000.00000  1.000000e+04  10000.000000  10000.000000  10000.000000   \n",
       "mean    5000.50000  1.569094e+07    650.528800     38.921800      5.012800   \n",
       "std     2886.89568  7.193619e+04     96.653299     10.487806      2.892174   \n",
       "min        1.00000  1.556570e+07    350.000000     18.000000      0.000000   \n",
       "25%     2500.75000  1.562853e+07    584.000000     32.000000      3.000000   \n",
       "50%     5000.50000  1.569074e+07    652.000000     37.000000      5.000000   \n",
       "75%     7500.25000  1.575323e+07    718.000000     44.000000      7.000000   \n",
       "max    10000.00000  1.581569e+07    850.000000     92.000000     10.000000   \n",
       "\n",
       "             Balance  NumOfProducts    HasCrCard  IsActiveMember  \\\n",
       "count   10000.000000   10000.000000  10000.00000    10000.000000   \n",
       "mean    76485.889288       1.530200      0.70550        0.515100   \n",
       "std     62397.405202       0.581654      0.45584        0.499797   \n",
       "min         0.000000       1.000000      0.00000        0.000000   \n",
       "25%         0.000000       1.000000      0.00000        0.000000   \n",
       "50%     97198.540000       1.000000      1.00000        1.000000   \n",
       "75%    127644.240000       2.000000      1.00000        1.000000   \n",
       "max    250898.090000       4.000000      1.00000        1.000000   \n",
       "\n",
       "       EstimatedSalary        Exited  \n",
       "count     10000.000000  10000.000000  \n",
       "mean     100090.239881      0.203700  \n",
       "std       57510.492818      0.402769  \n",
       "min          11.580000      0.000000  \n",
       "25%       51002.110000      0.000000  \n",
       "50%      100193.915000      0.000000  \n",
       "75%      149388.247500      0.000000  \n",
       "max      199992.480000      1.000000  "
      ]
     },
     "execution_count": 6,
     "metadata": {},
     "output_type": "execute_result"
    }
   ],
   "source": [
    "data.describe()"
   ]
  },
  {
   "cell_type": "code",
   "execution_count": 7,
   "metadata": {},
   "outputs": [
    {
     "data": {
      "text/html": [
       "<div>\n",
       "<style scoped>\n",
       "    .dataframe tbody tr th:only-of-type {\n",
       "        vertical-align: middle;\n",
       "    }\n",
       "\n",
       "    .dataframe tbody tr th {\n",
       "        vertical-align: top;\n",
       "    }\n",
       "\n",
       "    .dataframe thead th {\n",
       "        text-align: right;\n",
       "    }\n",
       "</style>\n",
       "<table border=\"1\" class=\"dataframe\">\n",
       "  <thead>\n",
       "    <tr style=\"text-align: right;\">\n",
       "      <th></th>\n",
       "      <th>RowNumber</th>\n",
       "      <th>CustomerId</th>\n",
       "      <th>CreditScore</th>\n",
       "      <th>Age</th>\n",
       "      <th>Tenure</th>\n",
       "      <th>Balance</th>\n",
       "      <th>NumOfProducts</th>\n",
       "      <th>HasCrCard</th>\n",
       "      <th>IsActiveMember</th>\n",
       "      <th>EstimatedSalary</th>\n",
       "      <th>Exited</th>\n",
       "    </tr>\n",
       "  </thead>\n",
       "  <tbody>\n",
       "    <tr>\n",
       "      <th>RowNumber</th>\n",
       "      <td>1.000000</td>\n",
       "      <td>0.004202</td>\n",
       "      <td>0.005840</td>\n",
       "      <td>0.000783</td>\n",
       "      <td>-0.006495</td>\n",
       "      <td>-0.009067</td>\n",
       "      <td>0.007246</td>\n",
       "      <td>0.000599</td>\n",
       "      <td>0.012044</td>\n",
       "      <td>-0.005988</td>\n",
       "      <td>-0.016571</td>\n",
       "    </tr>\n",
       "    <tr>\n",
       "      <th>CustomerId</th>\n",
       "      <td>0.004202</td>\n",
       "      <td>1.000000</td>\n",
       "      <td>0.005308</td>\n",
       "      <td>0.009497</td>\n",
       "      <td>-0.014883</td>\n",
       "      <td>-0.012419</td>\n",
       "      <td>0.016972</td>\n",
       "      <td>-0.014025</td>\n",
       "      <td>0.001665</td>\n",
       "      <td>0.015271</td>\n",
       "      <td>-0.006248</td>\n",
       "    </tr>\n",
       "    <tr>\n",
       "      <th>CreditScore</th>\n",
       "      <td>0.005840</td>\n",
       "      <td>0.005308</td>\n",
       "      <td>1.000000</td>\n",
       "      <td>-0.003965</td>\n",
       "      <td>0.000842</td>\n",
       "      <td>0.006268</td>\n",
       "      <td>0.012238</td>\n",
       "      <td>-0.005458</td>\n",
       "      <td>0.025651</td>\n",
       "      <td>-0.001384</td>\n",
       "      <td>-0.027094</td>\n",
       "    </tr>\n",
       "    <tr>\n",
       "      <th>Age</th>\n",
       "      <td>0.000783</td>\n",
       "      <td>0.009497</td>\n",
       "      <td>-0.003965</td>\n",
       "      <td>1.000000</td>\n",
       "      <td>-0.009997</td>\n",
       "      <td>0.028308</td>\n",
       "      <td>-0.030680</td>\n",
       "      <td>-0.011721</td>\n",
       "      <td>0.085472</td>\n",
       "      <td>-0.007201</td>\n",
       "      <td>0.285323</td>\n",
       "    </tr>\n",
       "    <tr>\n",
       "      <th>Tenure</th>\n",
       "      <td>-0.006495</td>\n",
       "      <td>-0.014883</td>\n",
       "      <td>0.000842</td>\n",
       "      <td>-0.009997</td>\n",
       "      <td>1.000000</td>\n",
       "      <td>-0.012254</td>\n",
       "      <td>0.013444</td>\n",
       "      <td>0.022583</td>\n",
       "      <td>-0.028362</td>\n",
       "      <td>0.007784</td>\n",
       "      <td>-0.014001</td>\n",
       "    </tr>\n",
       "    <tr>\n",
       "      <th>Balance</th>\n",
       "      <td>-0.009067</td>\n",
       "      <td>-0.012419</td>\n",
       "      <td>0.006268</td>\n",
       "      <td>0.028308</td>\n",
       "      <td>-0.012254</td>\n",
       "      <td>1.000000</td>\n",
       "      <td>-0.304180</td>\n",
       "      <td>-0.014858</td>\n",
       "      <td>-0.010084</td>\n",
       "      <td>0.012797</td>\n",
       "      <td>0.118533</td>\n",
       "    </tr>\n",
       "    <tr>\n",
       "      <th>NumOfProducts</th>\n",
       "      <td>0.007246</td>\n",
       "      <td>0.016972</td>\n",
       "      <td>0.012238</td>\n",
       "      <td>-0.030680</td>\n",
       "      <td>0.013444</td>\n",
       "      <td>-0.304180</td>\n",
       "      <td>1.000000</td>\n",
       "      <td>0.003183</td>\n",
       "      <td>0.009612</td>\n",
       "      <td>0.014204</td>\n",
       "      <td>-0.047820</td>\n",
       "    </tr>\n",
       "    <tr>\n",
       "      <th>HasCrCard</th>\n",
       "      <td>0.000599</td>\n",
       "      <td>-0.014025</td>\n",
       "      <td>-0.005458</td>\n",
       "      <td>-0.011721</td>\n",
       "      <td>0.022583</td>\n",
       "      <td>-0.014858</td>\n",
       "      <td>0.003183</td>\n",
       "      <td>1.000000</td>\n",
       "      <td>-0.011866</td>\n",
       "      <td>-0.009933</td>\n",
       "      <td>-0.007138</td>\n",
       "    </tr>\n",
       "    <tr>\n",
       "      <th>IsActiveMember</th>\n",
       "      <td>0.012044</td>\n",
       "      <td>0.001665</td>\n",
       "      <td>0.025651</td>\n",
       "      <td>0.085472</td>\n",
       "      <td>-0.028362</td>\n",
       "      <td>-0.010084</td>\n",
       "      <td>0.009612</td>\n",
       "      <td>-0.011866</td>\n",
       "      <td>1.000000</td>\n",
       "      <td>-0.011421</td>\n",
       "      <td>-0.156128</td>\n",
       "    </tr>\n",
       "    <tr>\n",
       "      <th>EstimatedSalary</th>\n",
       "      <td>-0.005988</td>\n",
       "      <td>0.015271</td>\n",
       "      <td>-0.001384</td>\n",
       "      <td>-0.007201</td>\n",
       "      <td>0.007784</td>\n",
       "      <td>0.012797</td>\n",
       "      <td>0.014204</td>\n",
       "      <td>-0.009933</td>\n",
       "      <td>-0.011421</td>\n",
       "      <td>1.000000</td>\n",
       "      <td>0.012097</td>\n",
       "    </tr>\n",
       "    <tr>\n",
       "      <th>Exited</th>\n",
       "      <td>-0.016571</td>\n",
       "      <td>-0.006248</td>\n",
       "      <td>-0.027094</td>\n",
       "      <td>0.285323</td>\n",
       "      <td>-0.014001</td>\n",
       "      <td>0.118533</td>\n",
       "      <td>-0.047820</td>\n",
       "      <td>-0.007138</td>\n",
       "      <td>-0.156128</td>\n",
       "      <td>0.012097</td>\n",
       "      <td>1.000000</td>\n",
       "    </tr>\n",
       "  </tbody>\n",
       "</table>\n",
       "</div>"
      ],
      "text/plain": [
       "                 RowNumber  CustomerId  CreditScore       Age    Tenure  \\\n",
       "RowNumber         1.000000    0.004202     0.005840  0.000783 -0.006495   \n",
       "CustomerId        0.004202    1.000000     0.005308  0.009497 -0.014883   \n",
       "CreditScore       0.005840    0.005308     1.000000 -0.003965  0.000842   \n",
       "Age               0.000783    0.009497    -0.003965  1.000000 -0.009997   \n",
       "Tenure           -0.006495   -0.014883     0.000842 -0.009997  1.000000   \n",
       "Balance          -0.009067   -0.012419     0.006268  0.028308 -0.012254   \n",
       "NumOfProducts     0.007246    0.016972     0.012238 -0.030680  0.013444   \n",
       "HasCrCard         0.000599   -0.014025    -0.005458 -0.011721  0.022583   \n",
       "IsActiveMember    0.012044    0.001665     0.025651  0.085472 -0.028362   \n",
       "EstimatedSalary  -0.005988    0.015271    -0.001384 -0.007201  0.007784   \n",
       "Exited           -0.016571   -0.006248    -0.027094  0.285323 -0.014001   \n",
       "\n",
       "                  Balance  NumOfProducts  HasCrCard  IsActiveMember  \\\n",
       "RowNumber       -0.009067       0.007246   0.000599        0.012044   \n",
       "CustomerId      -0.012419       0.016972  -0.014025        0.001665   \n",
       "CreditScore      0.006268       0.012238  -0.005458        0.025651   \n",
       "Age              0.028308      -0.030680  -0.011721        0.085472   \n",
       "Tenure          -0.012254       0.013444   0.022583       -0.028362   \n",
       "Balance          1.000000      -0.304180  -0.014858       -0.010084   \n",
       "NumOfProducts   -0.304180       1.000000   0.003183        0.009612   \n",
       "HasCrCard       -0.014858       0.003183   1.000000       -0.011866   \n",
       "IsActiveMember  -0.010084       0.009612  -0.011866        1.000000   \n",
       "EstimatedSalary  0.012797       0.014204  -0.009933       -0.011421   \n",
       "Exited           0.118533      -0.047820  -0.007138       -0.156128   \n",
       "\n",
       "                 EstimatedSalary    Exited  \n",
       "RowNumber              -0.005988 -0.016571  \n",
       "CustomerId              0.015271 -0.006248  \n",
       "CreditScore            -0.001384 -0.027094  \n",
       "Age                    -0.007201  0.285323  \n",
       "Tenure                  0.007784 -0.014001  \n",
       "Balance                 0.012797  0.118533  \n",
       "NumOfProducts           0.014204 -0.047820  \n",
       "HasCrCard              -0.009933 -0.007138  \n",
       "IsActiveMember         -0.011421 -0.156128  \n",
       "EstimatedSalary         1.000000  0.012097  \n",
       "Exited                  0.012097  1.000000  "
      ]
     },
     "execution_count": 7,
     "metadata": {},
     "output_type": "execute_result"
    }
   ],
   "source": [
    "data.corr()"
   ]
  },
  {
   "cell_type": "code",
   "execution_count": 9,
   "metadata": {},
   "outputs": [
    {
     "data": {
      "text/plain": [
       "2037"
      ]
     },
     "execution_count": 9,
     "metadata": {},
     "output_type": "execute_result"
    }
   ],
   "source": [
    "# Labels? (Total number of positive cases)\n",
    "data['Exited'].sum()"
   ]
  },
  {
   "cell_type": "code",
   "execution_count": 11,
   "metadata": {},
   "outputs": [
    {
     "name": "stdout",
     "output_type": "stream",
     "text": [
      "Surname:\n",
      "2932\n",
      "['Hargrave' 'Hill' 'Onio' ... 'Kashiwagi' 'Aldridge' 'Burbidge']\n",
      "\n",
      "Geography:\n",
      "3\n",
      "['France' 'Spain' 'Germany']\n",
      "\n",
      "Gender:\n",
      "2\n",
      "['Female' 'Male']\n"
     ]
    }
   ],
   "source": [
    "# Number and names of categorical entries\n",
    "print(\"Surname:\")\n",
    "print(data['Surname'].nunique())\n",
    "print(data['Surname'].unique())\n",
    "print()\n",
    "print(\"Geography:\")\n",
    "print(data['Geography'].nunique())\n",
    "print(data['Geography'].unique())\n",
    "print()\n",
    "print(\"Gender:\")\n",
    "print(data['Gender'].nunique())\n",
    "print(data['Gender'].unique())"
   ]
  },
  {
   "cell_type": "markdown",
   "metadata": {},
   "source": [
    "### Step 3: Data transformation (make everything numerical)"
   ]
  },
  {
   "cell_type": "code",
   "execution_count": 8,
   "metadata": {},
   "outputs": [
    {
     "name": "stdout",
     "output_type": "stream",
     "text": [
      "Collecting sklearn\n",
      "  Downloading https://files.pythonhosted.org/packages/1e/7a/dbb3be0ce9bd5c8b7e3d87328e79063f8b263b2b1bfa4774cb1147bfcd3f/sklearn-0.0.tar.gz\n",
      "Collecting scikit-learn\n",
      "\u001b[?25l  Downloading https://files.pythonhosted.org/packages/73/db/7d8204ddba84ab5d1e4fd1af8f82bbe39c589488bee71e45c662f4144010/scikit_learn-0.22.1-cp37-cp37m-manylinux1_x86_64.whl (7.0MB)\n",
      "\u001b[K     |████████████████████████████████| 7.0MB 2.5MB/s eta 0:00:01     |███████████████████████▊        | 5.2MB 1.5MB/s eta 0:00:02     |█████████████████████████▍      | 5.6MB 1.5MB/s eta 0:00:01\n",
      "\u001b[?25hRequirement already satisfied: numpy>=1.11.0 in /opt/conda/lib/python3.7/site-packages (from scikit-learn->sklearn) (1.17.4)\n",
      "Collecting joblib>=0.11\n",
      "\u001b[?25l  Downloading https://files.pythonhosted.org/packages/28/5c/cf6a2b65a321c4a209efcdf64c2689efae2cb62661f8f6f4bb28547cf1bf/joblib-0.14.1-py2.py3-none-any.whl (294kB)\n",
      "\u001b[K     |████████████████████████████████| 296kB 9.8MB/s eta 0:00:01\n",
      "\u001b[?25hCollecting scipy>=0.17.0\n",
      "\u001b[?25l  Downloading https://files.pythonhosted.org/packages/dd/82/c1fe128f3526b128cfd185580ba40d01371c5d299fcf7f77968e22dfcc2e/scipy-1.4.1-cp37-cp37m-manylinux1_x86_64.whl (26.1MB)\n",
      "\u001b[K     |████████████████████████████████| 26.1MB 2.4MB/s eta 0:00:01    |██▏                             | 1.7MB 1.9MB/s eta 0:00:13     |████████████████                | 13.0MB 7.1MB/s eta 0:00:02\n",
      "\u001b[?25hBuilding wheels for collected packages: sklearn\n",
      "  Building wheel for sklearn (setup.py) ... \u001b[?25ldone\n",
      "\u001b[?25h  Created wheel for sklearn: filename=sklearn-0.0-py2.py3-none-any.whl size=1316 sha256=d756263839ee983a10d18389a860e50ad28a645d6fe7578941c46957a3fdd4b3\n",
      "  Stored in directory: /root/.cache/pip/wheels/76/03/bb/589d421d27431bcd2c6da284d5f2286c8e3b2ea3cf1594c074\n",
      "Successfully built sklearn\n",
      "Installing collected packages: joblib, scipy, scikit-learn, sklearn\n",
      "Successfully installed joblib-0.14.1 scikit-learn-0.22.1 scipy-1.4.1 sklearn-0.0\n"
     ]
    }
   ],
   "source": [
    "! pip install sklearn"
   ]
  },
  {
   "cell_type": "code",
   "execution_count": 14,
   "metadata": {},
   "outputs": [],
   "source": [
    "\"\"\"\n",
    "    - Skipping first three features: RowNumber, CustomerId, Surname.\n",
    "    - Converting pandas dataframe to numpy array using .values\n",
    "\"\"\"\n",
    "X = data.iloc[:,3:13].values\n",
    "Y = data.iloc[:,13].values"
   ]
  },
  {
   "cell_type": "code",
   "execution_count": 16,
   "metadata": {},
   "outputs": [
    {
     "data": {
      "text/plain": [
       "array([619, 'France', 'Female', 42, 2, 0.0, 1, 1, 1, 101348.88],\n",
       "      dtype=object)"
      ]
     },
     "execution_count": 16,
     "metadata": {},
     "output_type": "execute_result"
    }
   ],
   "source": [
    "X[0]"
   ]
  },
  {
   "cell_type": "code",
   "execution_count": 5,
   "metadata": {},
   "outputs": [
    {
     "data": {
      "text/plain": [
       "(10,)"
      ]
     },
     "execution_count": 5,
     "metadata": {},
     "output_type": "execute_result"
    }
   ],
   "source": [
    "X[0].shape"
   ]
  },
  {
   "cell_type": "code",
   "execution_count": 6,
   "metadata": {},
   "outputs": [
    {
     "data": {
      "text/plain": [
       "array(['France', 'Germany', 'Spain'], dtype=object)"
      ]
     },
     "execution_count": 6,
     "metadata": {},
     "output_type": "execute_result"
    }
   ],
   "source": [
    "np.unique(X[:, 1])"
   ]
  },
  {
   "cell_type": "code",
   "execution_count": 17,
   "metadata": {},
   "outputs": [],
   "source": [
    "# Encode catagorical variables in col 2 and 3.\n",
    "from sklearn.preprocessing import LabelEncoder, OneHotEncoder\n",
    "\n",
    "country_encoder = LabelEncoder()\n",
    "X[:, 1] = country_encoder.fit_transform(X[:, 1])\n",
    "\n",
    "gender_encoder = LabelEncoder()\n",
    "X[:, 2] = gender_encoder.fit_transform(X[:, 2])"
   ]
  },
  {
   "cell_type": "code",
   "execution_count": 18,
   "metadata": {},
   "outputs": [
    {
     "data": {
      "text/plain": [
       "array([619, 0, 0, 42, 2, 0.0, 1, 1, 1, 101348.88], dtype=object)"
      ]
     },
     "execution_count": 18,
     "metadata": {},
     "output_type": "execute_result"
    }
   ],
   "source": [
    "X[0]"
   ]
  },
  {
   "cell_type": "code",
   "execution_count": 19,
   "metadata": {},
   "outputs": [
    {
     "data": {
      "text/plain": [
       "(10,)"
      ]
     },
     "execution_count": 19,
     "metadata": {},
     "output_type": "execute_result"
    }
   ],
   "source": [
    "X[0].shape"
   ]
  },
  {
   "cell_type": "code",
   "execution_count": 20,
   "metadata": {},
   "outputs": [],
   "source": [
    "from sklearn.compose import ColumnTransformer\n",
    "\n",
    "transformer = ColumnTransformer(\n",
    "    transformers=[\n",
    "        (\"OneHot\",        # Just a name\n",
    "         OneHotEncoder(), # The transformer class\n",
    "         [1]              # The column(s) to be applied on.\n",
    "         )\n",
    "    ],\n",
    "    remainder='passthrough' # donot apply anything to the remaining columns\n",
    ")\n",
    "X = transformer.fit_transform(X.tolist())\n",
    "X = X[:, 1:]"
   ]
  },
  {
   "cell_type": "code",
   "execution_count": 21,
   "metadata": {},
   "outputs": [
    {
     "data": {
      "text/plain": [
       "(11,)"
      ]
     },
     "execution_count": 21,
     "metadata": {},
     "output_type": "execute_result"
    }
   ],
   "source": [
    "X[0].shape"
   ]
  },
  {
   "cell_type": "code",
   "execution_count": 22,
   "metadata": {},
   "outputs": [
    {
     "data": {
      "text/plain": [
       "array([0.0, 0.0, 619, 0, 42, 2, 0.0, 1, 1, 1, 101348.88], dtype=object)"
      ]
     },
     "execution_count": 22,
     "metadata": {},
     "output_type": "execute_result"
    }
   ],
   "source": [
    "X[0]"
   ]
  },
  {
   "cell_type": "code",
   "execution_count": 65,
   "metadata": {},
   "outputs": [
    {
     "data": {
      "text/plain": [
       "array([0.0, 1.0], dtype=object)"
      ]
     },
     "execution_count": 65,
     "metadata": {},
     "output_type": "execute_result"
    }
   ],
   "source": [
    "np.unique(X[:, 1])\n",
    "# Ques: is this correct, changing three classes to two?\n",
    "# Ques: What is one-hot encoding?"
   ]
  },
  {
   "cell_type": "markdown",
   "metadata": {},
   "source": [
    "### Step 4: Split train and test datasets"
   ]
  },
  {
   "cell_type": "code",
   "execution_count": 51,
   "metadata": {},
   "outputs": [],
   "source": [
    "# Splitting the dataset into the Training set and Test set\n",
    "\n",
    "from sklearn.model_selection import train_test_split\n",
    "x_train, x_test, y_train, y_test = train_test_split(X, Y, test_size = 0.2, random_state = 0)\n"
   ]
  },
  {
   "cell_type": "markdown",
   "metadata": {},
   "source": [
    "### Step 5: Feature scaling"
   ]
  },
  {
   "cell_type": "code",
   "execution_count": 52,
   "metadata": {},
   "outputs": [],
   "source": [
    "### Bringing all the features to same scale\n",
    "from sklearn.preprocessing import StandardScaler\n",
    "sc = StandardScaler()\n",
    "\n",
    "x_train = sc.fit_transform(x_train)\n",
    "x_test = sc.transform(x_test)"
   ]
  },
  {
   "cell_type": "markdown",
   "metadata": {},
   "source": [
    "## Implementation 1: Using sklearn"
   ]
  },
  {
   "cell_type": "markdown",
   "metadata": {},
   "source": [
    "### Step 6: Create the model"
   ]
  },
  {
   "cell_type": "code",
   "execution_count": 53,
   "metadata": {},
   "outputs": [],
   "source": [
    "from sklearn.linear_model import LogisticRegression"
   ]
  },
  {
   "cell_type": "code",
   "execution_count": 54,
   "metadata": {},
   "outputs": [],
   "source": [
    "# all parameters not specified are set to their defaults\n",
    "logisticRegr = LogisticRegression()"
   ]
  },
  {
   "cell_type": "markdown",
   "metadata": {},
   "source": [
    "### Step 7: Training the model on data"
   ]
  },
  {
   "cell_type": "code",
   "execution_count": 55,
   "metadata": {},
   "outputs": [
    {
     "data": {
      "text/plain": [
       "(8000, 11)"
      ]
     },
     "execution_count": 55,
     "metadata": {},
     "output_type": "execute_result"
    }
   ],
   "source": [
    "x_train.shape"
   ]
  },
  {
   "cell_type": "code",
   "execution_count": 56,
   "metadata": {},
   "outputs": [
    {
     "data": {
      "text/plain": [
       "LogisticRegression(C=1.0, class_weight=None, dual=False, fit_intercept=True,\n",
       "                   intercept_scaling=1, l1_ratio=None, max_iter=100,\n",
       "                   multi_class='auto', n_jobs=None, penalty='l2',\n",
       "                   random_state=None, solver='lbfgs', tol=0.0001, verbose=0,\n",
       "                   warm_start=False)"
      ]
     },
     "execution_count": 56,
     "metadata": {},
     "output_type": "execute_result"
    }
   ],
   "source": [
    "logisticRegr.fit(x_train, y_train)"
   ]
  },
  {
   "cell_type": "markdown",
   "metadata": {},
   "source": [
    "### Step 8: Predict labels on trained model"
   ]
  },
  {
   "cell_type": "code",
   "execution_count": 57,
   "metadata": {},
   "outputs": [
    {
     "data": {
      "text/plain": [
       "array([0, 0, 0, 0, 0, 1, 0, 0, 0, 1])"
      ]
     },
     "execution_count": 57,
     "metadata": {},
     "output_type": "execute_result"
    }
   ],
   "source": [
    "logisticRegr.predict(x_test[0:10])"
   ]
  },
  {
   "cell_type": "code",
   "execution_count": 58,
   "metadata": {},
   "outputs": [
    {
     "data": {
      "text/plain": [
       "array([0, 1, 0, 0, 0, 1, 0, 0, 1, 1])"
      ]
     },
     "execution_count": 58,
     "metadata": {},
     "output_type": "execute_result"
    }
   ],
   "source": [
    "y_test[0:10]"
   ]
  },
  {
   "cell_type": "code",
   "execution_count": 59,
   "metadata": {},
   "outputs": [],
   "source": [
    "predictions = logisticRegr.predict(x_test)"
   ]
  },
  {
   "cell_type": "markdown",
   "metadata": {},
   "source": [
    "### Step 9: Performance metrics for model"
   ]
  },
  {
   "cell_type": "code",
   "execution_count": 60,
   "metadata": {},
   "outputs": [
    {
     "data": {
      "text/plain": [
       "0.811"
      ]
     },
     "execution_count": 60,
     "metadata": {},
     "output_type": "execute_result"
    }
   ],
   "source": [
    "# Accuracy\n",
    "score = logisticRegr.score(x_test, y_test)\n",
    "score"
   ]
  },
  {
   "cell_type": "markdown",
   "metadata": {},
   "source": [
    "**Confusion matrix**"
   ]
  },
  {
   "cell_type": "code",
   "execution_count": 61,
   "metadata": {},
   "outputs": [],
   "source": [
    "from sklearn import metrics"
   ]
  },
  {
   "cell_type": "code",
   "execution_count": 76,
   "metadata": {},
   "outputs": [],
   "source": [
    "cm = metrics.confusion_matrix(y_test, predictions)"
   ]
  },
  {
   "cell_type": "code",
   "execution_count": 80,
   "metadata": {},
   "outputs": [],
   "source": [
    "import seaborn as sns\n",
    "import matplotlib.pyplot as plt\n",
    "\n",
    "def plot_confusion_matrix(cm, accuracy):\n",
    "    plt.figure(figsize=(9,9))\n",
    "    sns.heatmap(cm, annot=True, fmt='.3f', linewidths=.5, square=True, cmap='Blues_r')\n",
    "    plt.xlabel('Predicted value')\n",
    "    plt.ylabel('Actual value')\n",
    "    header = f'Accuracy:{accuracy}'\n",
    "    plt.title(header)"
   ]
  },
  {
   "cell_type": "code",
   "execution_count": 82,
   "metadata": {},
   "outputs": [
    {
     "data": {
      "image/png": "[encoded data removed]",
      "text/plain": [
       "<Figure size 648x648 with 2 Axes>"
      ]
     },
     "metadata": {
      "needs_background": "light"
     },
     "output_type": "display_data"
    }
   ],
   "source": [
    "plot_confusion_matrix(cm, score)"
   ]
  },
  {
   "cell_type": "markdown",
   "metadata": {},
   "source": [
    "## Implementation 2: Using Keras"
   ]
  },
  {
   "cell_type": "code",
   "execution_count": 24,
   "metadata": {
    "collapsed": true
   },
   "outputs": [
    {
     "name": "stdout",
     "output_type": "stream",
     "text": [
      "WARNING: pip is being invoked by an old script wrapper. This will fail in a future version of pip.\n",
      "Please see https://github.com/pypa/pip/issues/5599 for advice on fixing the underlying issue.\n",
      "To avoid this problem you can invoke Python with '-m pip' instead of running pip directly.\n",
      "Requirement already satisfied: keras in /opt/conda/lib/python3.7/site-packages (2.3.1)\n",
      "Requirement already satisfied: h5py in /opt/conda/lib/python3.7/site-packages (from keras) (2.10.0)\n",
      "Requirement already satisfied: scipy>=0.14 in /opt/conda/lib/python3.7/site-packages (from keras) (1.4.1)\n",
      "Requirement already satisfied: six>=1.9.0 in /opt/conda/lib/python3.7/site-packages (from keras) (1.14.0)\n",
      "Requirement already satisfied: pyyaml in /opt/conda/lib/python3.7/site-packages (from keras) (5.3)\n",
      "Requirement already satisfied: keras-applications>=1.0.6 in /opt/conda/lib/python3.7/site-packages (from keras) (1.0.8)\n",
      "Requirement already satisfied: numpy>=1.9.1 in /opt/conda/lib/python3.7/site-packages (from keras) (1.17.5)\n",
      "Requirement already satisfied: keras-preprocessing>=1.0.5 in /opt/conda/lib/python3.7/site-packages (from keras) (1.1.0)\n",
      "WARNING: pip is being invoked by an old script wrapper. This will fail in a future version of pip.\n",
      "Please see https://github.com/pypa/pip/issues/5599 for advice on fixing the underlying issue.\n",
      "To avoid this problem you can invoke Python with '-m pip' instead of running pip directly.\n",
      "Requirement already satisfied: tensorflow in /opt/conda/lib/python3.7/site-packages (2.1.0)\n",
      "Requirement already satisfied: opt-einsum>=2.3.2 in /opt/conda/lib/python3.7/site-packages (from tensorflow) (3.1.0)\n",
      "Requirement already satisfied: grpcio>=1.8.6 in /opt/conda/lib/python3.7/site-packages (from tensorflow) (1.27.1)\n",
      "Requirement already satisfied: wrapt>=1.11.1 in /opt/conda/lib/python3.7/site-packages (from tensorflow) (1.11.2)\n",
      "Requirement already satisfied: absl-py>=0.7.0 in /opt/conda/lib/python3.7/site-packages (from tensorflow) (0.9.0)\n",
      "Requirement already satisfied: numpy<2.0,>=1.16.0 in /opt/conda/lib/python3.7/site-packages (from tensorflow) (1.17.5)\n",
      "Requirement already satisfied: termcolor>=1.1.0 in /opt/conda/lib/python3.7/site-packages (from tensorflow) (1.1.0)\n",
      "Requirement already satisfied: scipy==1.4.1; python_version >= \"3\" in /opt/conda/lib/python3.7/site-packages (from tensorflow) (1.4.1)\n",
      "Requirement already satisfied: gast==0.2.2 in /opt/conda/lib/python3.7/site-packages (from tensorflow) (0.2.2)\n",
      "Requirement already satisfied: keras-preprocessing>=1.1.0 in /opt/conda/lib/python3.7/site-packages (from tensorflow) (1.1.0)\n",
      "Requirement already satisfied: keras-applications>=1.0.8 in /opt/conda/lib/python3.7/site-packages (from tensorflow) (1.0.8)\n",
      "Requirement already satisfied: astor>=0.6.0 in /opt/conda/lib/python3.7/site-packages (from tensorflow) (0.8.1)\n",
      "Requirement already satisfied: tensorflow-estimator<2.2.0,>=2.1.0rc0 in /opt/conda/lib/python3.7/site-packages (from tensorflow) (2.1.0)\n",
      "Requirement already satisfied: wheel>=0.26; python_version >= \"3\" in /opt/conda/lib/python3.7/site-packages (from tensorflow) (0.34.1)\n",
      "Requirement already satisfied: google-pasta>=0.1.6 in /opt/conda/lib/python3.7/site-packages (from tensorflow) (0.1.8)\n",
      "Requirement already satisfied: protobuf>=3.8.0 in /opt/conda/lib/python3.7/site-packages (from tensorflow) (3.11.0)\n",
      "Requirement already satisfied: six>=1.12.0 in /opt/conda/lib/python3.7/site-packages (from tensorflow) (1.14.0)\n",
      "Requirement already satisfied: tensorboard<2.2.0,>=2.1.0 in /opt/conda/lib/python3.7/site-packages (from tensorflow) (2.1.0)\n",
      "Requirement already satisfied: h5py in /opt/conda/lib/python3.7/site-packages (from keras-applications>=1.0.8->tensorflow) (2.10.0)\n",
      "Requirement already satisfied: setuptools in /opt/conda/lib/python3.7/site-packages (from protobuf>=3.8.0->tensorflow) (45.1.0.post20200119)\n",
      "Requirement already satisfied: google-auth<2,>=1.6.3 in /opt/conda/lib/python3.7/site-packages (from tensorboard<2.2.0,>=2.1.0->tensorflow) (1.11.0)\n",
      "Requirement already satisfied: markdown>=2.6.8 in /opt/conda/lib/python3.7/site-packages (from tensorboard<2.2.0,>=2.1.0->tensorflow) (3.2)\n",
      "Requirement already satisfied: werkzeug>=0.11.15 in /opt/conda/lib/python3.7/site-packages (from tensorboard<2.2.0,>=2.1.0->tensorflow) (1.0.0)\n",
      "Requirement already satisfied: requests<3,>=2.21.0 in /opt/conda/lib/python3.7/site-packages (from tensorboard<2.2.0,>=2.1.0->tensorflow) (2.22.0)\n",
      "Requirement already satisfied: google-auth-oauthlib<0.5,>=0.4.1 in /opt/conda/lib/python3.7/site-packages (from tensorboard<2.2.0,>=2.1.0->tensorflow) (0.4.1)\n",
      "Requirement already satisfied: rsa<4.1,>=3.1.4 in /opt/conda/lib/python3.7/site-packages (from google-auth<2,>=1.6.3->tensorboard<2.2.0,>=2.1.0->tensorflow) (4.0)\n",
      "Requirement already satisfied: pyasn1-modules>=0.2.1 in /opt/conda/lib/python3.7/site-packages (from google-auth<2,>=1.6.3->tensorboard<2.2.0,>=2.1.0->tensorflow) (0.2.8)\n",
      "Requirement already satisfied: cachetools<5.0,>=2.0.0 in /opt/conda/lib/python3.7/site-packages (from google-auth<2,>=1.6.3->tensorboard<2.2.0,>=2.1.0->tensorflow) (4.0.0)\n",
      "Requirement already satisfied: chardet<3.1.0,>=3.0.2 in /opt/conda/lib/python3.7/site-packages (from requests<3,>=2.21.0->tensorboard<2.2.0,>=2.1.0->tensorflow) (3.0.4)\n",
      "Requirement already satisfied: idna<2.9,>=2.5 in /opt/conda/lib/python3.7/site-packages (from requests<3,>=2.21.0->tensorboard<2.2.0,>=2.1.0->tensorflow) (2.8)\n",
      "Requirement already satisfied: urllib3!=1.25.0,!=1.25.1,<1.26,>=1.21.1 in /opt/conda/lib/python3.7/site-packages (from requests<3,>=2.21.0->tensorboard<2.2.0,>=2.1.0->tensorflow) (1.25.7)\n",
      "Requirement already satisfied: certifi>=2017.4.17 in /opt/conda/lib/python3.7/site-packages (from requests<3,>=2.21.0->tensorboard<2.2.0,>=2.1.0->tensorflow) (2019.11.28)\n",
      "Requirement already satisfied: requests-oauthlib>=0.7.0 in /opt/conda/lib/python3.7/site-packages (from google-auth-oauthlib<0.5,>=0.4.1->tensorboard<2.2.0,>=2.1.0->tensorflow) (1.3.0)\n",
      "Requirement already satisfied: pyasn1>=0.1.3 in /opt/conda/lib/python3.7/site-packages (from rsa<4.1,>=3.1.4->google-auth<2,>=1.6.3->tensorboard<2.2.0,>=2.1.0->tensorflow) (0.4.8)\n",
      "Requirement already satisfied: oauthlib>=3.0.0 in /opt/conda/lib/python3.7/site-packages (from requests-oauthlib>=0.7.0->google-auth-oauthlib<0.5,>=0.4.1->tensorboard<2.2.0,>=2.1.0->tensorflow) (3.0.1)\n"
     ]
    }
   ],
   "source": [
    "! pip install keras\n",
    "! pip install tensorflow"
   ]
  },
  {
   "cell_type": "code",
   "execution_count": 25,
   "metadata": {},
   "outputs": [
    {
     "data": {
      "text/plain": [
       "(10000, 12)"
      ]
     },
     "execution_count": 25,
     "metadata": {},
     "output_type": "execute_result"
    }
   ],
   "source": [
    "X.shape"
   ]
  },
  {
   "cell_type": "code",
   "execution_count": 99,
   "metadata": {},
   "outputs": [
    {
     "name": "stdout",
     "output_type": "stream",
     "text": [
      "Epoch 1/100\n",
      "8000/8000 [==============================] - 1s 147us/step - loss: 0.4838 - accuracy: 0.7958\n",
      "Epoch 2/100\n",
      "8000/8000 [==============================] - 1s 126us/step - loss: 0.4293 - accuracy: 0.7960\n",
      "Epoch 3/100\n",
      "8000/8000 [==============================] - 1s 142us/step - loss: 0.4241 - accuracy: 0.7960\n",
      "Epoch 4/100\n",
      "8000/8000 [==============================] - 1s 143us/step - loss: 0.4198 - accuracy: 0.8171\n",
      "Epoch 5/100\n",
      "8000/8000 [==============================] - 1s 133us/step - loss: 0.4169 - accuracy: 0.8250\n",
      "Epoch 6/100\n",
      "8000/8000 [==============================] - 1s 141us/step - loss: 0.4148 - accuracy: 0.8282\n",
      "Epoch 7/100\n",
      "8000/8000 [==============================] - 1s 124us/step - loss: 0.4140 - accuracy: 0.8278\n",
      "Epoch 8/100\n",
      "8000/8000 [==============================] - 1s 148us/step - loss: 0.4123 - accuracy: 0.8299\n",
      "Epoch 9/100\n",
      "8000/8000 [==============================] - 1s 130us/step - loss: 0.4112 - accuracy: 0.8320\n",
      "Epoch 10/100\n",
      "8000/8000 [==============================] - 1s 122us/step - loss: 0.4105 - accuracy: 0.8329\n",
      "Epoch 11/100\n",
      "8000/8000 [==============================] - 1s 159us/step - loss: 0.4097 - accuracy: 0.8334\n",
      "Epoch 12/100\n",
      "8000/8000 [==============================] - 1s 170us/step - loss: 0.4091 - accuracy: 0.8330\n",
      "Epoch 13/100\n",
      "8000/8000 [==============================] - 1s 146us/step - loss: 0.4086 - accuracy: 0.8342\n",
      "Epoch 14/100\n",
      "8000/8000 [==============================] - 1s 165us/step - loss: 0.4078 - accuracy: 0.83220s - loss: 0.4047 - accuracy: 0.\n",
      "Epoch 15/100\n",
      "8000/8000 [==============================] - 1s 154us/step - loss: 0.4073 - accuracy: 0.8354\n",
      "Epoch 16/100\n",
      "8000/8000 [==============================] - 1s 146us/step - loss: 0.4071 - accuracy: 0.83390s\n",
      "Epoch 17/100\n",
      "8000/8000 [==============================] - 1s 125us/step - loss: 0.4066 - accuracy: 0.8325\n",
      "Epoch 18/100\n",
      "8000/8000 [==============================] - 1s 129us/step - loss: 0.4063 - accuracy: 0.8324\n",
      "Epoch 19/100\n",
      "8000/8000 [==============================] - 1s 133us/step - loss: 0.4062 - accuracy: 0.8340\n",
      "Epoch 20/100\n",
      "8000/8000 [==============================] - 1s 138us/step - loss: 0.4054 - accuracy: 0.8345\n",
      "Epoch 21/100\n",
      "8000/8000 [==============================] - 1s 161us/step - loss: 0.4060 - accuracy: 0.8341\n",
      "Epoch 22/100\n",
      "8000/8000 [==============================] - 1s 130us/step - loss: 0.4054 - accuracy: 0.8335\n",
      "Epoch 23/100\n",
      "8000/8000 [==============================] - 1s 145us/step - loss: 0.4051 - accuracy: 0.8331\n",
      "Epoch 24/100\n",
      "8000/8000 [==============================] - 1s 132us/step - loss: 0.4048 - accuracy: 0.8342\n",
      "Epoch 25/100\n",
      "8000/8000 [==============================] - 1s 155us/step - loss: 0.4045 - accuracy: 0.8356\n",
      "Epoch 26/100\n",
      "8000/8000 [==============================] - 1s 137us/step - loss: 0.4044 - accuracy: 0.8319\n",
      "Epoch 27/100\n",
      "8000/8000 [==============================] - 1s 133us/step - loss: 0.4040 - accuracy: 0.8341\n",
      "Epoch 28/100\n",
      "8000/8000 [==============================] - 1s 131us/step - loss: 0.4043 - accuracy: 0.8345\n",
      "Epoch 29/100\n",
      "8000/8000 [==============================] - 1s 168us/step - loss: 0.4035 - accuracy: 0.8342\n",
      "Epoch 30/100\n",
      "8000/8000 [==============================] - 1s 144us/step - loss: 0.4039 - accuracy: 0.83240s - loss: 0.4034 - accuracy: 0.\n",
      "Epoch 31/100\n",
      "8000/8000 [==============================] - 1s 137us/step - loss: 0.4035 - accuracy: 0.8332\n",
      "Epoch 32/100\n",
      "8000/8000 [==============================] - 1s 140us/step - loss: 0.4034 - accuracy: 0.8330\n",
      "Epoch 33/100\n",
      "8000/8000 [==============================] - 1s 133us/step - loss: 0.4031 - accuracy: 0.8326\n",
      "Epoch 34/100\n",
      "8000/8000 [==============================] - 1s 164us/step - loss: 0.4035 - accuracy: 0.8335\n",
      "Epoch 35/100\n",
      "8000/8000 [==============================] - 1s 139us/step - loss: 0.4030 - accuracy: 0.8345\n",
      "Epoch 36/100\n",
      "8000/8000 [==============================] - 1s 140us/step - loss: 0.4026 - accuracy: 0.8334\n",
      "Epoch 37/100\n",
      "8000/8000 [==============================] - 1s 156us/step - loss: 0.4030 - accuracy: 0.8331\n",
      "Epoch 38/100\n",
      "8000/8000 [==============================] - 1s 165us/step - loss: 0.4025 - accuracy: 0.8335\n",
      "Epoch 39/100\n",
      "8000/8000 [==============================] - 1s 130us/step - loss: 0.4023 - accuracy: 0.8319\n",
      "Epoch 40/100\n",
      "8000/8000 [==============================] - 1s 151us/step - loss: 0.4022 - accuracy: 0.8339\n",
      "Epoch 41/100\n",
      "8000/8000 [==============================] - 1s 162us/step - loss: 0.4018 - accuracy: 0.8332\n",
      "Epoch 42/100\n",
      "8000/8000 [==============================] - 1s 152us/step - loss: 0.4021 - accuracy: 0.8340\n",
      "Epoch 43/100\n",
      "8000/8000 [==============================] - 1s 163us/step - loss: 0.4023 - accuracy: 0.8338\n",
      "Epoch 44/100\n",
      "8000/8000 [==============================] - 1s 175us/step - loss: 0.4021 - accuracy: 0.8331\n",
      "Epoch 45/100\n",
      "8000/8000 [==============================] - 1s 146us/step - loss: 0.4021 - accuracy: 0.8338\n",
      "Epoch 46/100\n",
      "8000/8000 [==============================] - 1s 148us/step - loss: 0.4018 - accuracy: 0.8349\n",
      "Epoch 47/100\n",
      "8000/8000 [==============================] - 1s 132us/step - loss: 0.4020 - accuracy: 0.8330\n",
      "Epoch 48/100\n",
      "8000/8000 [==============================] - 1s 130us/step - loss: 0.4011 - accuracy: 0.8331\n",
      "Epoch 49/100\n",
      "8000/8000 [==============================] - 1s 135us/step - loss: 0.4019 - accuracy: 0.8336\n",
      "Epoch 50/100\n",
      "8000/8000 [==============================] - 1s 135us/step - loss: 0.4019 - accuracy: 0.8345\n",
      "Epoch 51/100\n",
      "8000/8000 [==============================] - 1s 151us/step - loss: 0.4014 - accuracy: 0.8325\n",
      "Epoch 52/100\n",
      "8000/8000 [==============================] - 2s 188us/step - loss: 0.4013 - accuracy: 0.8342\n",
      "Epoch 53/100\n",
      "8000/8000 [==============================] - 2s 250us/step - loss: 0.4010 - accuracy: 0.8345\n",
      "Epoch 54/100\n",
      "8000/8000 [==============================] - 2s 242us/step - loss: 0.4011 - accuracy: 0.8339\n",
      "Epoch 55/100\n",
      "8000/8000 [==============================] - 2s 221us/step - loss: 0.4004 - accuracy: 0.8353\n",
      "Epoch 56/100\n",
      "8000/8000 [==============================] - 2s 289us/step - loss: 0.4011 - accuracy: 0.8334\n",
      "Epoch 57/100\n",
      "8000/8000 [==============================] - 1s 181us/step - loss: 0.4003 - accuracy: 0.8342\n",
      "Epoch 58/100\n",
      "8000/8000 [==============================] - 1s 181us/step - loss: 0.4008 - accuracy: 0.8370\n",
      "Epoch 59/100\n",
      "8000/8000 [==============================] - 1s 157us/step - loss: 0.4005 - accuracy: 0.8341\n",
      "Epoch 60/100\n",
      "8000/8000 [==============================] - 1s 172us/step - loss: 0.4002 - accuracy: 0.8339\n",
      "Epoch 61/100\n",
      "8000/8000 [==============================] - 1s 129us/step - loss: 0.4000 - accuracy: 0.8340\n",
      "Epoch 62/100\n",
      "8000/8000 [==============================] - 1s 137us/step - loss: 0.4001 - accuracy: 0.8361\n",
      "Epoch 63/100\n",
      "8000/8000 [==============================] - 1s 159us/step - loss: 0.4001 - accuracy: 0.8356\n",
      "Epoch 64/100\n",
      "8000/8000 [==============================] - 1s 152us/step - loss: 0.4001 - accuracy: 0.8354\n",
      "Epoch 65/100\n",
      "8000/8000 [==============================] - 1s 117us/step - loss: 0.4005 - accuracy: 0.8347\n",
      "Epoch 66/100\n",
      "8000/8000 [==============================] - 1s 133us/step - loss: 0.3997 - accuracy: 0.8354\n",
      "Epoch 67/100\n",
      "8000/8000 [==============================] - 1s 140us/step - loss: 0.4001 - accuracy: 0.8349\n",
      "Epoch 68/100\n",
      "8000/8000 [==============================] - 1s 157us/step - loss: 0.3992 - accuracy: 0.8366\n",
      "Epoch 69/100\n",
      "8000/8000 [==============================] - 1s 130us/step - loss: 0.4003 - accuracy: 0.8331\n",
      "Epoch 70/100\n",
      "8000/8000 [==============================] - 1s 126us/step - loss: 0.3998 - accuracy: 0.8364\n",
      "Epoch 71/100\n",
      "8000/8000 [==============================] - 1s 137us/step - loss: 0.4002 - accuracy: 0.8365\n",
      "Epoch 72/100\n",
      "8000/8000 [==============================] - 1s 133us/step - loss: 0.3995 - accuracy: 0.8340\n",
      "Epoch 73/100\n",
      "8000/8000 [==============================] - 1s 147us/step - loss: 0.3994 - accuracy: 0.8340\n",
      "Epoch 74/100\n",
      "8000/8000 [==============================] - 1s 139us/step - loss: 0.3997 - accuracy: 0.8370\n",
      "Epoch 75/100\n",
      "8000/8000 [==============================] - 1s 152us/step - loss: 0.4001 - accuracy: 0.8361\n",
      "Epoch 76/100\n",
      "8000/8000 [==============================] - 1s 161us/step - loss: 0.3996 - accuracy: 0.8350\n",
      "Epoch 77/100\n",
      "8000/8000 [==============================] - 1s 167us/step - loss: 0.3999 - accuracy: 0.8357\n",
      "Epoch 78/100\n",
      "8000/8000 [==============================] - 1s 126us/step - loss: 0.3995 - accuracy: 0.8370\n",
      "Epoch 79/100\n",
      "8000/8000 [==============================] - 1s 127us/step - loss: 0.4000 - accuracy: 0.8356\n",
      "Epoch 80/100\n",
      "8000/8000 [==============================] - 1s 130us/step - loss: 0.3995 - accuracy: 0.8346\n",
      "Epoch 81/100\n",
      "8000/8000 [==============================] - 1s 136us/step - loss: 0.3991 - accuracy: 0.8357\n",
      "Epoch 82/100\n",
      "8000/8000 [==============================] - 1s 155us/step - loss: 0.3996 - accuracy: 0.8356\n",
      "Epoch 83/100\n",
      "8000/8000 [==============================] - 1s 132us/step - loss: 0.3999 - accuracy: 0.8346\n",
      "Epoch 84/100\n",
      "8000/8000 [==============================] - 1s 128us/step - loss: 0.4000 - accuracy: 0.8365\n",
      "Epoch 85/100\n",
      "8000/8000 [==============================] - 1s 143us/step - loss: 0.3993 - accuracy: 0.8367\n",
      "Epoch 86/100\n",
      "8000/8000 [==============================] - 1s 153us/step - loss: 0.3995 - accuracy: 0.8359\n",
      "Epoch 87/100\n",
      "8000/8000 [==============================] - 1s 157us/step - loss: 0.3995 - accuracy: 0.8357\n",
      "Epoch 88/100\n",
      "8000/8000 [==============================] - 1s 118us/step - loss: 0.3994 - accuracy: 0.8360\n",
      "Epoch 89/100\n",
      "8000/8000 [==============================] - 1s 120us/step - loss: 0.3995 - accuracy: 0.8355\n",
      "Epoch 90/100\n",
      "8000/8000 [==============================] - 1s 136us/step - loss: 0.3996 - accuracy: 0.8342\n",
      "Epoch 91/100\n",
      "8000/8000 [==============================] - 1s 144us/step - loss: 0.3991 - accuracy: 0.8364\n",
      "Epoch 92/100\n",
      "8000/8000 [==============================] - 1s 113us/step - loss: 0.3997 - accuracy: 0.8346\n",
      "Epoch 93/100\n",
      "8000/8000 [==============================] - 1s 153us/step - loss: 0.3993 - accuracy: 0.8355\n",
      "Epoch 94/100\n",
      "8000/8000 [==============================] - 2s 189us/step - loss: 0.3996 - accuracy: 0.8342\n",
      "Epoch 95/100\n",
      "8000/8000 [==============================] - 2s 189us/step - loss: 0.3996 - accuracy: 0.8353\n",
      "Epoch 96/100\n",
      "8000/8000 [==============================] - 1s 144us/step - loss: 0.3994 - accuracy: 0.8356\n",
      "Epoch 97/100\n",
      "8000/8000 [==============================] - 1s 146us/step - loss: 0.3995 - accuracy: 0.8354\n",
      "Epoch 98/100\n",
      "8000/8000 [==============================] - 1s 156us/step - loss: 0.3996 - accuracy: 0.8341\n",
      "Epoch 99/100\n",
      "8000/8000 [==============================] - 1s 181us/step - loss: 0.3993 - accuracy: 0.8363\n",
      "Epoch 100/100\n",
      "8000/8000 [==============================] - 1s 171us/step - loss: 0.3995 - accuracy: 0.8357\n"
     ]
    }
   ],
   "source": [
    "# Importing the Keras libraries and packages\n",
    "import keras\n",
    "from keras.models import Sequential\n",
    "from keras.layers import Dense\n",
    "\n",
    "# Initialising the ANN\n",
    "classifier = Sequential()\n",
    "\n",
    "# Adding the input layer and the first hidden layer\n",
    "classifier.add(Dense(units = 6, kernel_initializer = 'uniform', activation = 'relu', input_dim = 11))\n",
    "\n",
    "# Adding the second hidden layer\n",
    "classifier.add(Dense(units = 6, kernel_initializer = 'uniform', activation = 'relu'))\n",
    "\n",
    "# Adding the output layer\n",
    "classifier.add(Dense(units = 1, kernel_initializer = 'uniform', activation = 'sigmoid'))\n",
    "\n",
    "# Compiling the ANN\n",
    "classifier.compile(optimizer = 'adam', loss = 'binary_crossentropy', metrics = ['accuracy'])\n",
    "\n",
    "# Fitting the ANN to the Training set\n",
    "history = classifier.fit(x_train, y_train, batch_size = 10, epochs = 100)\n"
   ]
  },
  {
   "cell_type": "code",
   "execution_count": 112,
   "metadata": {},
   "outputs": [
    {
     "data": {
      "text/plain": [
       "0.8328"
      ]
     },
     "execution_count": 112,
     "metadata": {},
     "output_type": "execute_result"
    }
   ],
   "source": [
    "acc_hist = history.history['accuracy']\n",
    "accuracy = round(sum(acc_hist)/len(acc_hist), 4)\n",
    "accuracy"
   ]
  },
  {
   "cell_type": "code",
   "execution_count": 66,
   "metadata": {},
   "outputs": [],
   "source": [
    "# Predicting the Test set results\n",
    "y_pred = classifier.predict(x_test)\n",
    "y_pred = (y_pred > 0.5)"
   ]
  },
  {
   "cell_type": "code",
   "execution_count": 83,
   "metadata": {},
   "outputs": [
    {
     "name": "stdout",
     "output_type": "stream",
     "text": [
      "[[1528   67]\n",
      " [ 257  148]]\n"
     ]
    }
   ],
   "source": [
    "# Making the Confusion Matrix\n",
    "cm = metrics.confusion_matrix(y_test, y_pred)\n",
    "print(cm)"
   ]
  },
  {
   "cell_type": "code",
   "execution_count": 84,
   "metadata": {},
   "outputs": [],
   "source": [
    "# Calculating accuracy\n",
    "accuracy = (cm[0][0] + cm[1][1])/cm.sum()"
   ]
  },
  {
   "cell_type": "code",
   "execution_count": 85,
   "metadata": {},
   "outputs": [
    {
     "data": {
      "image/png": "[encoded data removed]",
      "text/plain": [
       "<Figure size 648x648 with 2 Axes>"
      ]
     },
     "metadata": {
      "needs_background": "light"
     },
     "output_type": "display_data"
    }
   ],
   "source": [
    "plot_confusion_matrix(cm, accuracy)"
   ]
  },
  {
   "cell_type": "code",
   "execution_count": 74,
   "metadata": {},
   "outputs": [
    {
     "name": "stdout",
     "output_type": "stream",
     "text": [
      "[[False]]\n"
     ]
    }
   ],
   "source": [
    "# Predicting a single new observation\n",
    "\"\"\"Predict if the customer with the following informations will leave the bank:\n",
    "Geography: France\n",
    "Credit Score: 600\n",
    "Gender: Male\n",
    "Age: 40\n",
    "Tenure: 3\n",
    "Balance: 60000\n",
    "Number of Products: 2\n",
    "Has Credit Card: Yes\n",
    "Is Active Member: Yes\n",
    "Estimated Salary: 50000\"\"\"\n",
    "new_prediction = classifier.predict(sc.transform(np.array([[0.0, 0, 600, 1, 40, 3, 60000, 2, 1, 1, 50000]])))\n",
    "new_prediction = (new_prediction > 0.5)\n",
    "print(new_prediction)"
   ]
  },
  {
   "cell_type": "markdown",
   "metadata": {},
   "source": [
    "Questions to answer:\n",
    "1. What is one-hot encoding?\n",
    "2. How does ML logistic regression work?\n",
    "3. In deep learning implementations:\n",
    "    - Explain binary_crossentropy\n",
    "    - Explain adam optimizer\n",
    "    - Relu function\n",
    "    - Sigmoid function\n",
    "    - Difference between model.compile() and model.fit()"
   ]
  },
  {
   "cell_type": "markdown",
   "metadata": {},
   "source": [
    "## Implementation 2: Using Pytorch"
   ]
  },
  {
   "cell_type": "markdown",
   "metadata": {},
   "source": [
    "### Preparing the data"
   ]
  },
  {
   "cell_type": "code",
   "execution_count": 12,
   "metadata": {},
   "outputs": [
    {
     "data": {
      "text/html": [
       "<div>\n",
       "<style scoped>\n",
       "    .dataframe tbody tr th:only-of-type {\n",
       "        vertical-align: middle;\n",
       "    }\n",
       "\n",
       "    .dataframe tbody tr th {\n",
       "        vertical-align: top;\n",
       "    }\n",
       "\n",
       "    .dataframe thead th {\n",
       "        text-align: right;\n",
       "    }\n",
       "</style>\n",
       "<table border=\"1\" class=\"dataframe\">\n",
       "  <thead>\n",
       "    <tr style=\"text-align: right;\">\n",
       "      <th></th>\n",
       "      <th>CreditScore</th>\n",
       "      <th>Geography</th>\n",
       "      <th>Gender</th>\n",
       "      <th>Age</th>\n",
       "      <th>Tenure</th>\n",
       "      <th>Balance</th>\n",
       "      <th>NumOfProducts</th>\n",
       "      <th>HasCrCard</th>\n",
       "      <th>IsActiveMember</th>\n",
       "      <th>EstimatedSalary</th>\n",
       "      <th>Exited</th>\n",
       "    </tr>\n",
       "  </thead>\n",
       "  <tbody>\n",
       "    <tr>\n",
       "      <th>0</th>\n",
       "      <td>619</td>\n",
       "      <td>France</td>\n",
       "      <td>Female</td>\n",
       "      <td>42</td>\n",
       "      <td>2</td>\n",
       "      <td>0.00</td>\n",
       "      <td>1</td>\n",
       "      <td>1</td>\n",
       "      <td>1</td>\n",
       "      <td>101348.88</td>\n",
       "      <td>1</td>\n",
       "    </tr>\n",
       "    <tr>\n",
       "      <th>1</th>\n",
       "      <td>608</td>\n",
       "      <td>Spain</td>\n",
       "      <td>Female</td>\n",
       "      <td>41</td>\n",
       "      <td>1</td>\n",
       "      <td>83807.86</td>\n",
       "      <td>1</td>\n",
       "      <td>0</td>\n",
       "      <td>1</td>\n",
       "      <td>112542.58</td>\n",
       "      <td>0</td>\n",
       "    </tr>\n",
       "    <tr>\n",
       "      <th>2</th>\n",
       "      <td>502</td>\n",
       "      <td>France</td>\n",
       "      <td>Female</td>\n",
       "      <td>42</td>\n",
       "      <td>8</td>\n",
       "      <td>159660.80</td>\n",
       "      <td>3</td>\n",
       "      <td>1</td>\n",
       "      <td>0</td>\n",
       "      <td>113931.57</td>\n",
       "      <td>1</td>\n",
       "    </tr>\n",
       "    <tr>\n",
       "      <th>3</th>\n",
       "      <td>699</td>\n",
       "      <td>France</td>\n",
       "      <td>Female</td>\n",
       "      <td>39</td>\n",
       "      <td>1</td>\n",
       "      <td>0.00</td>\n",
       "      <td>2</td>\n",
       "      <td>0</td>\n",
       "      <td>0</td>\n",
       "      <td>93826.63</td>\n",
       "      <td>0</td>\n",
       "    </tr>\n",
       "    <tr>\n",
       "      <th>4</th>\n",
       "      <td>850</td>\n",
       "      <td>Spain</td>\n",
       "      <td>Female</td>\n",
       "      <td>43</td>\n",
       "      <td>2</td>\n",
       "      <td>125510.82</td>\n",
       "      <td>1</td>\n",
       "      <td>1</td>\n",
       "      <td>1</td>\n",
       "      <td>79084.10</td>\n",
       "      <td>0</td>\n",
       "    </tr>\n",
       "  </tbody>\n",
       "</table>\n",
       "</div>"
      ],
      "text/plain": [
       "   CreditScore Geography  Gender  Age  Tenure    Balance  NumOfProducts  \\\n",
       "0          619    France  Female   42       2       0.00              1   \n",
       "1          608     Spain  Female   41       1   83807.86              1   \n",
       "2          502    France  Female   42       8  159660.80              3   \n",
       "3          699    France  Female   39       1       0.00              2   \n",
       "4          850     Spain  Female   43       2  125510.82              1   \n",
       "\n",
       "   HasCrCard  IsActiveMember  EstimatedSalary  Exited  \n",
       "0          1               1        101348.88       1  \n",
       "1          0               1        112542.58       0  \n",
       "2          1               0        113931.57       1  \n",
       "3          0               0         93826.63       0  \n",
       "4          1               1         79084.10       0  "
      ]
     },
     "execution_count": 12,
     "metadata": {},
     "output_type": "execute_result"
    }
   ],
   "source": [
    "dataset_df = data.drop(['RowNumber', 'CustomerId', 'Surname'], axis=1)\n",
    "dataset_df.head()"
   ]
  },
  {
   "cell_type": "code",
   "execution_count": 13,
   "metadata": {},
   "outputs": [
    {
     "data": {
      "text/html": [
       "<div>\n",
       "<style scoped>\n",
       "    .dataframe tbody tr th:only-of-type {\n",
       "        vertical-align: middle;\n",
       "    }\n",
       "\n",
       "    .dataframe tbody tr th {\n",
       "        vertical-align: top;\n",
       "    }\n",
       "\n",
       "    .dataframe thead th {\n",
       "        text-align: right;\n",
       "    }\n",
       "</style>\n",
       "<table border=\"1\" class=\"dataframe\">\n",
       "  <thead>\n",
       "    <tr style=\"text-align: right;\">\n",
       "      <th></th>\n",
       "      <th>CreditScore</th>\n",
       "      <th>Age</th>\n",
       "      <th>Tenure</th>\n",
       "      <th>Balance</th>\n",
       "      <th>NumOfProducts</th>\n",
       "      <th>HasCrCard</th>\n",
       "      <th>IsActiveMember</th>\n",
       "      <th>EstimatedSalary</th>\n",
       "      <th>Exited</th>\n",
       "      <th>Geography_France</th>\n",
       "      <th>Geography_Germany</th>\n",
       "      <th>Geography_Spain</th>\n",
       "      <th>Gender_Female</th>\n",
       "      <th>Gender_Male</th>\n",
       "    </tr>\n",
       "  </thead>\n",
       "  <tbody>\n",
       "    <tr>\n",
       "      <th>0</th>\n",
       "      <td>619</td>\n",
       "      <td>42</td>\n",
       "      <td>2</td>\n",
       "      <td>0.00</td>\n",
       "      <td>1</td>\n",
       "      <td>1</td>\n",
       "      <td>1</td>\n",
       "      <td>101348.88</td>\n",
       "      <td>1</td>\n",
       "      <td>1</td>\n",
       "      <td>0</td>\n",
       "      <td>0</td>\n",
       "      <td>1</td>\n",
       "      <td>0</td>\n",
       "    </tr>\n",
       "    <tr>\n",
       "      <th>1</th>\n",
       "      <td>608</td>\n",
       "      <td>41</td>\n",
       "      <td>1</td>\n",
       "      <td>83807.86</td>\n",
       "      <td>1</td>\n",
       "      <td>0</td>\n",
       "      <td>1</td>\n",
       "      <td>112542.58</td>\n",
       "      <td>0</td>\n",
       "      <td>0</td>\n",
       "      <td>0</td>\n",
       "      <td>1</td>\n",
       "      <td>1</td>\n",
       "      <td>0</td>\n",
       "    </tr>\n",
       "    <tr>\n",
       "      <th>2</th>\n",
       "      <td>502</td>\n",
       "      <td>42</td>\n",
       "      <td>8</td>\n",
       "      <td>159660.80</td>\n",
       "      <td>3</td>\n",
       "      <td>1</td>\n",
       "      <td>0</td>\n",
       "      <td>113931.57</td>\n",
       "      <td>1</td>\n",
       "      <td>1</td>\n",
       "      <td>0</td>\n",
       "      <td>0</td>\n",
       "      <td>1</td>\n",
       "      <td>0</td>\n",
       "    </tr>\n",
       "    <tr>\n",
       "      <th>3</th>\n",
       "      <td>699</td>\n",
       "      <td>39</td>\n",
       "      <td>1</td>\n",
       "      <td>0.00</td>\n",
       "      <td>2</td>\n",
       "      <td>0</td>\n",
       "      <td>0</td>\n",
       "      <td>93826.63</td>\n",
       "      <td>0</td>\n",
       "      <td>1</td>\n",
       "      <td>0</td>\n",
       "      <td>0</td>\n",
       "      <td>1</td>\n",
       "      <td>0</td>\n",
       "    </tr>\n",
       "    <tr>\n",
       "      <th>4</th>\n",
       "      <td>850</td>\n",
       "      <td>43</td>\n",
       "      <td>2</td>\n",
       "      <td>125510.82</td>\n",
       "      <td>1</td>\n",
       "      <td>1</td>\n",
       "      <td>1</td>\n",
       "      <td>79084.10</td>\n",
       "      <td>0</td>\n",
       "      <td>0</td>\n",
       "      <td>0</td>\n",
       "      <td>1</td>\n",
       "      <td>1</td>\n",
       "      <td>0</td>\n",
       "    </tr>\n",
       "  </tbody>\n",
       "</table>\n",
       "</div>"
      ],
      "text/plain": [
       "   CreditScore  Age  Tenure    Balance  NumOfProducts  HasCrCard  \\\n",
       "0          619   42       2       0.00              1          1   \n",
       "1          608   41       1   83807.86              1          0   \n",
       "2          502   42       8  159660.80              3          1   \n",
       "3          699   39       1       0.00              2          0   \n",
       "4          850   43       2  125510.82              1          1   \n",
       "\n",
       "   IsActiveMember  EstimatedSalary  Exited  Geography_France  \\\n",
       "0               1        101348.88       1                 1   \n",
       "1               1        112542.58       0                 0   \n",
       "2               0        113931.57       1                 1   \n",
       "3               0         93826.63       0                 1   \n",
       "4               1         79084.10       0                 0   \n",
       "\n",
       "   Geography_Germany  Geography_Spain  Gender_Female  Gender_Male  \n",
       "0                  0                0              1            0  \n",
       "1                  0                1              1            0  \n",
       "2                  0                0              1            0  \n",
       "3                  0                0              1            0  \n",
       "4                  0                1              1            0  "
      ]
     },
     "execution_count": 13,
     "metadata": {},
     "output_type": "execute_result"
    }
   ],
   "source": [
    "# Now, the categorical values (Geography, Gender) should be converted into dummy variables.\n",
    "dataset_df = pd.get_dummies(dataset_df)\n",
    "dataset_df.head()"
   ]
  },
  {
   "cell_type": "code",
   "execution_count": 14,
   "metadata": {},
   "outputs": [
    {
     "data": {
      "text/plain": [
       "(array([[619.,  42.,   2., ...,   0.,   1.,   0.],\n",
       "        [608.,  41.,   1., ...,   1.,   1.,   0.],\n",
       "        [502.,  42.,   8., ...,   0.,   1.,   0.],\n",
       "        ...,\n",
       "        [709.,  36.,   7., ...,   0.,   1.,   0.],\n",
       "        [772.,  42.,   3., ...,   0.,   0.,   1.],\n",
       "        [792.,  28.,   4., ...,   0.,   1.,   0.]]),\n",
       " ['CreditScore',\n",
       "  'Age',\n",
       "  'Tenure',\n",
       "  'Balance',\n",
       "  'NumOfProducts',\n",
       "  'HasCrCard',\n",
       "  'IsActiveMember',\n",
       "  'EstimatedSalary',\n",
       "  'Geography_France',\n",
       "  'Geography_Germany',\n",
       "  'Geography_Spain',\n",
       "  'Gender_Female',\n",
       "  'Gender_Male'],\n",
       " array([1, 0, 1, ..., 1, 1, 0]))"
      ]
     },
     "execution_count": 14,
     "metadata": {},
     "output_type": "execute_result"
    }
   ],
   "source": [
    "# With all data converted to numerical values, it's time to put them into a matrix!\n",
    "features = np.array(dataset_df.drop('Exited', axis=1))\n",
    "feature_names = dataset_df.drop('Exited', axis=1).columns.tolist()\n",
    "labels = np.array(dataset_df['Exited'])\n",
    "features, feature_names, labels"
   ]
  },
  {
   "cell_type": "code",
   "execution_count": 15,
   "metadata": {},
   "outputs": [
    {
     "data": {
      "text/plain": [
       "array([[-0.32622142,  0.29351742, -1.04175968, ..., -0.57380915,\n",
       "         1.09598752, -1.09598752],\n",
       "       [-0.44003595,  0.19816383, -1.38753759, ...,  1.74273971,\n",
       "         1.09598752, -1.09598752],\n",
       "       [-1.53679418,  0.29351742,  1.03290776, ..., -0.57380915,\n",
       "         1.09598752, -1.09598752],\n",
       "       ...,\n",
       "       [ 0.60498839, -0.27860412,  0.68712986, ..., -0.57380915,\n",
       "         1.09598752, -1.09598752],\n",
       "       [ 1.25683526,  0.29351742, -0.69598177, ..., -0.57380915,\n",
       "        -0.91241915,  0.91241915],\n",
       "       [ 1.46377078, -1.04143285, -0.35020386, ..., -0.57380915,\n",
       "         1.09598752, -1.09598752]])"
      ]
     },
     "execution_count": 15,
     "metadata": {},
     "output_type": "execute_result"
    }
   ],
   "source": [
    "# Since the range of values are inconsistent over different features, it should be normalized.\n",
    "features = (features - features.mean(axis=0, keepdims=True)) / features.std(axis=0, keepdims=True)\n",
    "features"
   ]
  },
  {
   "cell_type": "markdown",
   "metadata": {},
   "source": [
    "### Moving on to PyTorch!"
   ]
  },
  {
   "cell_type": "code",
   "execution_count": 22,
   "metadata": {},
   "outputs": [
    {
     "name": "stdout",
     "output_type": "stream",
     "text": [
      "WARNING: pip is being invoked by an old script wrapper. This will fail in a future version of pip.\n",
      "Please see https://github.com/pypa/pip/issues/5599 for advice on fixing the underlying issue.\n",
      "To avoid this problem you can invoke Python with '-m pip' instead of running pip directly.\n",
      "Collecting torch\n",
      "  Downloading torch-1.4.0-cp37-cp37m-manylinux1_x86_64.whl (753.4 MB)\n",
      "\u001b[K     |████████████████████████████████| 753.4 MB 13.7 MB/s eta 0:00:01  |▎                               | 7.0 MB 1.3 MB/s eta 0:09:39     |▎                               | 7.2 MB 1.3 MB/s eta 0:09:39     |▌                               | 10.6 MB 1.3 MB/s eta 0:09:26     |▌                               | 12.0 MB 1.3 MB/s eta 0:09:25     |▋                               | 15.4 MB 1.3 MB/s eta 0:09:22     |▉                               | 19.0 MB 1.3 MB/s eta 0:09:19[K     |█                               | 26.0 MB 2.4 MB/s eta 0:05:02     |█▋                              | 37.0 MB 5.4 MB/s eta 0:02:13     |██▏                             | 51.6 MB 2.3 MB/s eta 0:05:03     |██▊                             | 64.2 MB 4.7 MB/s eta 0:02:28     |███                             | 71.5 MB 3.6 MB/s eta 0:03:09     |███                             | 72.0 MB 2.1 MB/s eta 0:05:23     |███▏                            | 74.5 MB 2.1 MB/s eta 0:05:22     |███▏                            | 75.6 MB 2.1 MB/s eta 0:05:21     |███▋                            | 85.2 MB 8.9 MB/s eta 0:01:15     |████▋                           | 108.5 MB 8.4 MB/s eta 0:01:17     |████▋                           | 109.4 MB 8.4 MB/s eta 0:01:17     |████▊                           | 110.3 MB 8.4 MB/s eta 0:01:17 |████▊                           | 110.7 MB 8.4 MB/s eta 0:01:17     |████▊                           | 111.1 MB 8.4 MB/s eta 0:01:17     |████▉                           | 113.2 MB 1.1 MB/s eta 0:09:57     |█████▏                          | 120.7 MB 16.1 MB/s eta 0:00:40     |██████▏                         | 144.5 MB 14.6 MB/s eta 0:00:42     |██████▉                         | 161.8 MB 6.0 MB/s eta 0:01:40     |██████▉                         | 162.0 MB 6.0 MB/s eta 0:01:40     |███████▉                        | 183.7 MB 14.6 MB/s eta 0:00:39     |████████▏                       | 191.1 MB 6.9 MB/s eta 0:01:22     |█████████▎                      | 218.6 MB 23.6 MB/s eta 0:00:23     |█████████▎                      | 219.2 MB 23.6 MB/s eta 0:00:23     |██████████                      | 237.7 MB 14.7 MB/s eta 0:00:36     |████████████▍                   | 292.9 MB 9.2 MB/s eta 0:00:51��████████▌                   | 295.4 MB 6.9 MB/s eta 0:01:06     |████████████▋                   | 295.8 MB 6.9 MB/s eta 0:01:06     |█████████████▋                  | 321.6 MB 19.8 MB/s eta 0:00:22     |█████████████▊                  | 322.1 MB 19.8 MB/s eta 0:00:22     |█████████████▉                  | 325.4 MB 19.8 MB/s eta 0:00:22     |██████████████▍                 | 338.4 MB 6.3 MB/s eta 0:01:07     |███████████████                 | 352.0 MB 25.8 MB/s eta 0:00:16     |███████████████▊                | 369.9 MB 31.1 MB/s eta 0:00:13     |████████████████▎               | 382.1 MB 10.3 MB/s eta 0:00:36     |█████████████████               | 402.5 MB 13.9 MB/s eta 0:00:26     |██████████████████              | 421.3 MB 5.0 MB/s eta 0:01:07     |██████████████████▎             | 430.9 MB 16.5 MB/s eta 0:00:20     |██████████████████▎             | 431.1 MB 16.5 MB/s eta 0:00:20MB/s eta 0:00:20     |██████████████████▍             | 431.7 MB 16.5 MB/s eta 0:00:20     |██████████████████▌             | 434.3 MB 1.9 MB/s eta 0:02:52     |██████████████████▊             | 439.5 MB 658 kB/s eta 0:07:57     |███████████████████▏            | 452.4 MB 2.7 MB/s eta 0:01:50     |███████████████████▎            | 454.6 MB 2.7 MB/s eta 0:01:49     |███████████████████▌            | 459.4 MB 9.8 MB/s eta 0:00:31     |████████████████████▎           | 476.1 MB 17.0 MB/s eta 0:00:17     |████████████████████▍           | 479.8 MB 22.2 MB/s eta 0:00:13     |████████████████████▋           | 486.2 MB 22.2 MB/s eta 0:00:13�████████▉           | 489.4 MB 3.1 MB/s eta 0:01:26     |████████████████████▉           | 491.7 MB 3.1 MB/s eta 0:01:25     |█████████████████████           | 496.4 MB 5.5 MB/s eta 0:00:48     |█████████████████████▍          | 502.4 MB 13.0 MB/s eta 0:00:20:00:19     |█████████████████████▊          | 511.1 MB 13.0 MB/s eta 0:00:19     |██████████████████████          | 518.6 MB 13.2 MB/s eta 0:00:18     |██████████████████████▎         | 523.3 MB 7.5 MB/s eta 0:00:31     |██████████████████████▉         | 537.1 MB 6.4 MB/s eta 0:00:34     |███████████████████████         | 543.4 MB 21.5 MB/s eta 0:00:10�██████████▎        | 549.2 MB 21.5 MB/s eta 0:00:10     |███████████████████████▊        | 558.0 MB 3.4 MB/s eta 0:00:58     |███████████████████████▉        | 562.3 MB 22.4 MB/s eta 0:00:09     |████████████████████████▎       | 571.1 MB 22.4 MB/s eta 0:00:09     |████████████████████████▌       | 576.8 MB 10.9 MB/s eta 0:00:17     |██████████████████████████▍     | 621.2 MB 7.3 MB/s eta 0:00:19     |██████████████████████████▊     | 628.2 MB 7.3 MB/s eta 0:00:18     |███████████████████████████     | 635.1 MB 5.5 MB/s eta 0:00:22�████████▍    | 644.7 MB 7.2 MB/s eta 0:00:16████████▍    | 645.1 MB 7.2 MB/s eta 0:00:15     |████████████████████████████▋   | 673.7 MB 9.1 MB/s eta 0:00:09     |█████████████████████████████   | 680.2 MB 9.1 MB/s eta 0:00:09     |█████████████████████████████   | 681.6 MB 27.5 MB/s eta 0:00:03     |█████████████████████████████   | 683.6 MB 27.5 MB/s eta 0:00:03     |█████████████████████████████   | 684.5 MB 27.5 MB/s eta 0:00:03     |██████████████████████████████  | 704.0 MB 6.7 MB/s eta 0:00:08     |██████████████████████████████  | 706.2 MB 6.7 MB/s eta 0:00:08     |██████████████████████████████  | 707.6 MB 6.7 MB/s eta 0:00:07     |██████████████████████████████▉ | 724.7 MB 3.5 MB/s eta 0:00:09     |███████████████████████████████▉| 750.4 MB 13.7 MB/s eta 0:00:01     |████████████████████████████████| 752.0 MB 13.7 MB/s eta 0:00:01Killed\n"
     ]
    }
   ],
   "source": [
    "! pip install torch --user"
   ]
  },
  {
   "cell_type": "code",
   "execution_count": 23,
   "metadata": {},
   "outputs": [
    {
     "name": "stdout",
     "output_type": "stream",
     "text": [
      "WARNING: pip is being invoked by an old script wrapper. This will fail in a future version of pip.\n",
      "Please see https://github.com/pypa/pip/issues/5599 for advice on fixing the underlying issue.\n",
      "To avoid this problem you can invoke Python with '-m pip' instead of running pip directly.\n",
      "Collecting torchvision\n",
      "  Using cached torchvision-0.5.0-cp37-cp37m-manylinux1_x86_64.whl (4.0 MB)\n",
      "Requirement already satisfied: six in /opt/conda/lib/python3.7/site-packages (from torchvision) (1.14.0)\n",
      "Requirement already satisfied: numpy in /opt/conda/lib/python3.7/site-packages (from torchvision) (1.17.5)\n",
      "Collecting torch==1.4.0\n",
      "  Downloading torch-1.4.0-cp37-cp37m-manylinux1_x86_64.whl (753.4 MB)\n",
      "\u001b[K     |████████████████████████████████| 753.4 MB 11.9 MB/s eta 0:00:01  |▏                               | 3.2 MB 2.8 MB/s eta 0:04:28     |▊                               | 16.1 MB 16.2 MB/s eta 0:00:46     |▊                               | 17.3 MB 16.2 MB/s eta 0:00:46     |█▊                              | 40.6 MB 27.5 MB/s eta 0:00:26     |██▍                             | 55.3 MB 8.9 MB/s eta 0:01:19     |██▊                             | 62.9 MB 3.2 MB/s eta 0:03:38     |██▉                             | 67.5 MB 3.2 MB/s eta 0:03:37     |███▉                            | 91.4 MB 6.5 MB/s eta 0:01:43     |████▏                           | 98.9 MB 6.5 MB/s eta 0:01:41     |████▍                           | 102.8 MB 20.4 MB/s eta 0:00:32     |█████                           | 120.2 MB 3.5 MB/s eta 0:03:01     |█████▎                          | 123.0 MB 3.5 MB/s eta 0:03:00     |█████▉                          | 138.5 MB 1.4 MB/s eta 0:07:27     |██████▎                         | 148.0 MB 1.2 MB/s eta 0:08:34     |███████                         | 163.4 MB 1.3 MB/s eta 0:07:43     |███████▎                        | 170.2 MB 1.3 MB/s eta 0:07:38     |███████▊                        | 182.0 MB 5.4 MB/s eta 0:01:46     |████████▎                       | 193.7 MB 40.5 MB/s eta 0:00:14MB 16.5 MB/s eta 0:00:33     |█████████                       | 212.2 MB 3.8 MB/s eta 0:02:25     |█████████▍                      | 221.8 MB 3.8 MB/s eta 0:02:22     |█████████▌                      | 223.1 MB 3.8 MB/s eta 0:02:22     |█████████▋                      | 227.3 MB 3.4 MB/s eta 0:02:37     |██████████                      | 236.5 MB 3.4 MB/s eta 0:02:34     |██████████▏                     | 239.2 MB 3.5 MB/s eta 0:02:26     |██████████▍                     | 244.6 MB 3.5 MB/s eta 0:02:24     |██████████▍                     | 244.7 MB 3.5 MB/s eta 0:02:24     |██████████▌                     | 246.4 MB 3.5 MB/s eta 0:02:23     |███████████                     | 256.8 MB 3.9 MB/s eta 0:02:08     |███████████▌                    | 270.7 MB 1.5 MB/s eta 0:05:22     |████████████                    | 282.9 MB 1.9 MB/s eta 0:04:08     |████████████▏                   | 286.1 MB 1.9 MB/s eta 0:04:07��████████▊                   | 299.8 MB 4.8 MB/s eta 0:01:35     |█████████████                   | 306.6 MB 3.2 MB/s eta 0:02:223.2 MB/s eta 0:02:19     |██████████████                  | 331.3 MB 4.3 MB/s eta 0:01:40     |███████████████▍                | 363.2 MB 7.9 MB/s eta 0:00:50     |████████████████                | 374.4 MB 2.0 MB/s eta 0:03:14     |████████████████                | 375.7 MB 2.0 MB/s eta 0:03:13  | 397.0 MB 3.8 MB/s eta 0:01:35     |█████████████████               | 397.9 MB 3.8 MB/s eta 0:01:35     |█████████████████               | 401.9 MB 3.8 MB/s eta 0:01:34     |█████████████████▍              | 408.1 MB 5.4 MB/s eta 0:01:04     |█████████████████▍              | 410.3 MB 5.4 MB/s eta 0:01:04     |█████████████████▉              | 418.6 MB 2.0 MB/s eta 0:02:51     |██████████████████▏             | 427.6 MB 2.0 MB/s eta 0:02:47     |██████████████████▍             | 434.0 MB 1.8 MB/s eta 0:02:57     |███████████████████▌            | 460.3 MB 5.6 MB/s eta 0:00:53     |████████████████████▏           | 474.7 MB 2.1 MB/s eta 0:02:13     |████████████████████▋           | 484.1 MB 3.0 MB/s eta 0:01:30     |████████████████████▊           | 487.2 MB 3.0 MB/s eta 0:01:29     |████████████████████▉           | 490.5 MB 2.2 MB/s eta 0:02:00     |████████████████████▉           | 491.3 MB 2.2 MB/s eta 0:02:00     |█████████████████████▎          | 500.1 MB 2.2 MB/s eta 0:01:56     |█████████████████████▎          | 500.4 MB 2.2 MB/s eta 0:01:56     |█████████████████████▍          | 504.4 MB 4.3 MB/s eta 0:00:59     |█████████████████████▌          | 505.0 MB 4.3 MB/s eta 0:00:59     |█████████████████████▉          | 512.8 MB 4.3 MB/s eta 0:00:57��█████████████████████          | 517.7 MB 1.8 MB/s eta 0:02:14     |██████████████████████▏         | 522.9 MB 1.8 MB/s eta 0:02:11     |██████████████████████▏         | 523.1 MB 1.8 MB/s eta 0:02:11     |███████████████████████         | 541.7 MB 2.5 MB/s eta 0:01:25     |███████████████████████▋        | 556.8 MB 5.2 MB/s eta 0:00:38     |███████████████████████▋        | 557.0 MB 5.2 MB/s eta 0:00:38     |███████████████████████▉        | 560.5 MB 5.2 MB/s eta 0:00:38     |████████████████████████▎       | 572.6 MB 2.8 MB/s eta 0:01:04��████████████████▋       | 579.7 MB 7.2 MB/s eta 0:00:25     |█████████████████████████▍      | 598.8 MB 1.6 MB/s eta 0:01:39     |█████████████████████████▌      | 600.8 MB 1.6 MB/s eta 0:01:37     |█████████████████████████▉      | 608.1 MB 4.3 MB/s eta 0:00:34     |██████████████████████████▍     | 620.9 MB 1.5 MB/s eta 0:01:27     |██████████████████████████▍     | 621.7 MB 1.5 MB/s eta 0:01:26     |██████████████████████████▍     | 622.1 MB 1.5 MB/s eta 0:01:26     |███████████████████████████     | 633.6 MB 17.0 MB/s eta 0:00:08     |███████████████████████████▍    | 644.2 MB 18.4 MB/s eta 0:00:06��█████████████▋    | 649.8 MB 18.4 MB/s eta 0:00:06     |███████████████████████████▉    | 654.8 MB 4.0 MB/s eta 0:00:25.0 MB 4.0 MB/s eta 0:00:23��███████████████████▌   | 671.0 MB 2.4 MB/s eta 0:00:35     |████████████████████████████▌   | 671.4 MB 2.4 MB/s eta 0:00:34     |█████████████████████████████   | 682.5 MB 9.6 MB/s eta 0:00:08     |█████████████████████████████▏  | 685.4 MB 9.6 MB/s eta 0:00:08     |█████████████████████████████▎  | 688.5 MB 1.8 MB/s eta 0:00:37     |██████████████████████████████  | 706.0 MB 4.7 MB/s eta 0:00:11     |██████████████████████████████▏ | 710.1 MB 4.7 MB/s eta 0:00:10     |██████████████████████████████▋ | 719.8 MB 7.1 MB/s eta 0:00:05     |██████████████████████████████▊ | 722.6 MB 7.1 MB/s eta 0:00:058 MB 7.1 MB/s eta 0:00:045 MB 7.9 MB/s eta 0:00:039 MB 7.9 MB/s eta 0:00:03██████ | 732.0 MB 7.9 MB/s eta 0:00:03B 7.9 MB/s eta 0:00:03�██████████████▏| 733.1 MB 7.9 MB/s eta 0:00:03Killed\n"
     ]
    }
   ],
   "source": [
    "! pip install torchvision --user"
   ]
  },
  {
   "cell_type": "code",
   "execution_count": 24,
   "metadata": {},
   "outputs": [
    {
     "ename": "ModuleNotFoundError",
     "evalue": "No module named 'torch'",
     "output_type": "error",
     "traceback": [
      "\u001b[0;31m-----------------------------------------------------------------------\u001b[0m",
      "\u001b[0;31mModuleNotFoundError\u001b[0m                   Traceback (most recent call last)",
      "\u001b[0;32m<ipython-input-24-36e06aa5cc8a>\u001b[0m in \u001b[0;36m<module>\u001b[0;34m\u001b[0m\n\u001b[0;32m----> 1\u001b[0;31m \u001b[0;32mimport\u001b[0m \u001b[0mtorch\u001b[0m\u001b[0;34m\u001b[0m\u001b[0;34m\u001b[0m\u001b[0m\n\u001b[0m\u001b[1;32m      2\u001b[0m \u001b[0;32mimport\u001b[0m \u001b[0mtorch\u001b[0m\u001b[0;34m.\u001b[0m\u001b[0mnn\u001b[0m \u001b[0;32mas\u001b[0m \u001b[0mnn\u001b[0m\u001b[0;34m\u001b[0m\u001b[0;34m\u001b[0m\u001b[0m\n\u001b[1;32m      3\u001b[0m \u001b[0;32mimport\u001b[0m \u001b[0mtorch\u001b[0m\u001b[0;34m.\u001b[0m\u001b[0mnn\u001b[0m\u001b[0;34m.\u001b[0m\u001b[0mfunctional\u001b[0m \u001b[0;32mas\u001b[0m \u001b[0mF\u001b[0m\u001b[0;34m\u001b[0m\u001b[0;34m\u001b[0m\u001b[0m\n\u001b[1;32m      4\u001b[0m \u001b[0;32mimport\u001b[0m \u001b[0mtorch\u001b[0m\u001b[0;34m.\u001b[0m\u001b[0mnn\u001b[0m\u001b[0;34m.\u001b[0m\u001b[0minit\u001b[0m \u001b[0;32mas\u001b[0m \u001b[0minit\u001b[0m\u001b[0;34m\u001b[0m\u001b[0;34m\u001b[0m\u001b[0m\n\u001b[1;32m      5\u001b[0m \u001b[0;32mimport\u001b[0m \u001b[0mtorch\u001b[0m\u001b[0;34m.\u001b[0m\u001b[0moptim\u001b[0m \u001b[0;32mas\u001b[0m \u001b[0moptim\u001b[0m\u001b[0;34m\u001b[0m\u001b[0;34m\u001b[0m\u001b[0m\n",
      "\u001b[0;31mModuleNotFoundError\u001b[0m: No module named 'torch'"
     ]
    }
   ],
   "source": [
    "import torch\n",
    "import torch.nn as nn\n",
    "import torch.nn.functional as F\n",
    "import torch.nn.init as init\n",
    "import torch.optim as optim\n",
    "from torch.utils.data import Dataset, DataLoader, SubsetRandomSampler\n",
    "from collections import OrderedDict"
   ]
  },
  {
   "cell_type": "code",
   "execution_count": null,
   "metadata": {},
   "outputs": [],
   "source": []
  }
 ],
 "metadata": {
  "kernelspec": {
   "display_name": "Python 3",
   "language": "python",
   "name": "python3"
  },
  "language_info": {
   "codemirror_mode": {
    "name": "ipython",
    "version": 3
   },
   "file_extension": ".py",
   "mimetype": "text/x-python",
   "name": "python",
   "nbconvert_exporter": "python",
   "pygments_lexer": "ipython3",
   "version": "3.7.4"
  }
 },
 "nbformat": 4,
 "nbformat_minor": 4
}
